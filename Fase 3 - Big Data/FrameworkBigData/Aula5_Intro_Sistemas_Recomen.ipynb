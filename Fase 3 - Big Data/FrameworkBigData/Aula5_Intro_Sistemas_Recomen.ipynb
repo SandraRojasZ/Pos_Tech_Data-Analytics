{
  "nbformat": 4,
  "nbformat_minor": 0,
  "metadata": {
    "colab": {
      "provenance": [],
      "authorship_tag": "ABX9TyN8IF/+1ZNjq2CBDZ0AUbkC"
    },
    "kernelspec": {
      "name": "python3",
      "display_name": "Python 3"
    },
    "language_info": {
      "name": "python"
    }
  },
  "cells": [
    {
      "cell_type": "code",
      "execution_count": 1,
      "metadata": {
        "id": "k2lGgUNxEfGd"
      },
      "outputs": [],
      "source": [
        "import scipy\n",
        "from scipy import stats\n",
        "import numpy as np"
      ]
    },
    {
      "cell_type": "code",
      "source": [
        "# criação de dados\n",
        "matrix = np.array([[8,0,3,4,6],[5,6,1,8,9],[8,0,0,5,10]])\n",
        "novoUser = [8,0,2,3,0]\n",
        "nao_assistidos = [0,1,0,0,1]\n",
        "print(matrix)\n",
        "nomeFilmes = ['Round 6', 'A Invocação do Mal', '9 Desconhecidos', 'You', 'La Casa de Papel']"
      ],
      "metadata": {
        "id": "Qj6b1Q-ktBaW",
        "outputId": "2d91316f-b2d1-4fb0-d796-26631910f3d6",
        "colab": {
          "base_uri": "https://localhost:8080/"
        }
      },
      "execution_count": 2,
      "outputs": [
        {
          "output_type": "stream",
          "name": "stdout",
          "text": [
            "[[ 8  0  3  4  6]\n",
            " [ 5  6  1  8  9]\n",
            " [ 8  0  0  5 10]]\n"
          ]
        }
      ]
    },
    {
      "cell_type": "code",
      "source": [
        "#  cria uma lista chamada similarity com 3 elementos, todos inicializados com o valor 0\n",
        "similarity = [0] * 3\n",
        "print(matrix[0][0])\n",
        "print(matrix[1][0])\n",
        "print(matrix[1,:])\n",
        "# para cada usuário no sistema\n",
        "for i in range(0, 3):\n",
        "  # vamos pegar os dados desse usuários\n",
        "  temp = matrix[i, :]\n",
        "\n",
        "  print(i, temp)\n",
        "  tempUser = [t for n, t in zip(novoUser, temp) if n != 0]\n",
        "  tempNovoUser = [n for n in novoUser if n != 0]\n",
        "\n",
        "  # para verificar o processo\n",
        "  print('user', i)\n",
        "  print(tempUser, tempNovoUser)\n",
        "\n",
        "  # biblioteca scipy.stats calcua o pearson\n",
        "  # Calcula o coeficiente de correlação de Pearson entre as duas listas\n",
        "  similarity[i] = scipy.stats.pearsonr(tempUser, tempNovoUser)[0]\n",
        "print()\n",
        "\n",
        "print(similarity)\n"
      ],
      "metadata": {
        "id": "euM2-T1ZuR5H",
        "outputId": "9f6719de-217d-4d9e-b1d6-72e185392e15",
        "colab": {
          "base_uri": "https://localhost:8080/"
        }
      },
      "execution_count": 4,
      "outputs": [
        {
          "output_type": "stream",
          "name": "stdout",
          "text": [
            "8\n",
            "5\n",
            "[5 6 1 8 9]\n",
            "0 [8 0 3 4 6]\n",
            "user 0\n",
            "[8, 3, 4] [8, 2, 3]\n",
            "1 [5 6 1 8 9]\n",
            "user 1\n",
            "[5, 1, 8] [8, 2, 3]\n",
            "2 [ 8  0  0  5 10]\n",
            "user 2\n",
            "[8, 0, 5] [8, 2, 3]\n",
            "\n",
            "[0.9994237971287663, 0.23621543814299698, 0.8723686098443353]\n"
          ]
        }
      ]
    },
    {
      "cell_type": "code",
      "source": [
        "nota_peso = np.zeros((3,5))\n",
        "\n",
        "for nUser in range(3):\n",
        "  for nFilme in range(5):\n",
        "    print('nota_peso[',nUser,'][',nFilme,'] = nao_assistidos[',nFilme,'] * matrix[',nUser,'][',nFilme,'] * similarity[',nUser,']')\n",
        "    print('nota_peso[',nUser,'][',nFilme,'] = ', nao_assistidos[nFilme], ' * ',matrix[nUser][nFilme],' * ', similarity[nUser])\n",
        "    nota_peso[nUser][nFilme] = nao_assistidos[nFilme] * matrix[nUser][nFilme] * similarity[nUser]\n",
        "\n",
        "print(nota_peso)"
      ],
      "metadata": {
        "id": "bXJXcrBNyIhq",
        "outputId": "328a6423-5a8e-4e42-9f38-201a3f531a80",
        "colab": {
          "base_uri": "https://localhost:8080/"
        }
      },
      "execution_count": 8,
      "outputs": [
        {
          "output_type": "stream",
          "name": "stdout",
          "text": [
            "nota_peso[ 0 ][ 0 ] = nao_assistidos[ 0 ] * matrix[ 0 ][ 0 ] * similarity[ 0 ]\n",
            "nota_peso[ 0 ][ 0 ] =  0  *  8  *  0.9994237971287663\n",
            "nota_peso[ 0 ][ 1 ] = nao_assistidos[ 1 ] * matrix[ 0 ][ 1 ] * similarity[ 0 ]\n",
            "nota_peso[ 0 ][ 1 ] =  1  *  0  *  0.9994237971287663\n",
            "nota_peso[ 0 ][ 2 ] = nao_assistidos[ 2 ] * matrix[ 0 ][ 2 ] * similarity[ 0 ]\n",
            "nota_peso[ 0 ][ 2 ] =  0  *  3  *  0.9994237971287663\n",
            "nota_peso[ 0 ][ 3 ] = nao_assistidos[ 3 ] * matrix[ 0 ][ 3 ] * similarity[ 0 ]\n",
            "nota_peso[ 0 ][ 3 ] =  0  *  4  *  0.9994237971287663\n",
            "nota_peso[ 0 ][ 4 ] = nao_assistidos[ 4 ] * matrix[ 0 ][ 4 ] * similarity[ 0 ]\n",
            "nota_peso[ 0 ][ 4 ] =  1  *  6  *  0.9994237971287663\n",
            "nota_peso[ 1 ][ 0 ] = nao_assistidos[ 0 ] * matrix[ 1 ][ 0 ] * similarity[ 1 ]\n",
            "nota_peso[ 1 ][ 0 ] =  0  *  5  *  0.23621543814299698\n",
            "nota_peso[ 1 ][ 1 ] = nao_assistidos[ 1 ] * matrix[ 1 ][ 1 ] * similarity[ 1 ]\n",
            "nota_peso[ 1 ][ 1 ] =  1  *  6  *  0.23621543814299698\n",
            "nota_peso[ 1 ][ 2 ] = nao_assistidos[ 2 ] * matrix[ 1 ][ 2 ] * similarity[ 1 ]\n",
            "nota_peso[ 1 ][ 2 ] =  0  *  1  *  0.23621543814299698\n",
            "nota_peso[ 1 ][ 3 ] = nao_assistidos[ 3 ] * matrix[ 1 ][ 3 ] * similarity[ 1 ]\n",
            "nota_peso[ 1 ][ 3 ] =  0  *  8  *  0.23621543814299698\n",
            "nota_peso[ 1 ][ 4 ] = nao_assistidos[ 4 ] * matrix[ 1 ][ 4 ] * similarity[ 1 ]\n",
            "nota_peso[ 1 ][ 4 ] =  1  *  9  *  0.23621543814299698\n",
            "nota_peso[ 2 ][ 0 ] = nao_assistidos[ 0 ] * matrix[ 2 ][ 0 ] * similarity[ 2 ]\n",
            "nota_peso[ 2 ][ 0 ] =  0  *  8  *  0.8723686098443353\n",
            "nota_peso[ 2 ][ 1 ] = nao_assistidos[ 1 ] * matrix[ 2 ][ 1 ] * similarity[ 2 ]\n",
            "nota_peso[ 2 ][ 1 ] =  1  *  0  *  0.8723686098443353\n",
            "nota_peso[ 2 ][ 2 ] = nao_assistidos[ 2 ] * matrix[ 2 ][ 2 ] * similarity[ 2 ]\n",
            "nota_peso[ 2 ][ 2 ] =  0  *  0  *  0.8723686098443353\n",
            "nota_peso[ 2 ][ 3 ] = nao_assistidos[ 3 ] * matrix[ 2 ][ 3 ] * similarity[ 2 ]\n",
            "nota_peso[ 2 ][ 3 ] =  0  *  5  *  0.8723686098443353\n",
            "nota_peso[ 2 ][ 4 ] = nao_assistidos[ 4 ] * matrix[ 2 ][ 4 ] * similarity[ 2 ]\n",
            "nota_peso[ 2 ][ 4 ] =  1  *  10  *  0.8723686098443353\n",
            "[[0.         0.         0.         0.         5.99654278]\n",
            " [0.         1.41729263 0.         0.         2.12593894]\n",
            " [0.         0.         0.         0.         8.7236861 ]]\n"
          ]
        }
      ]
    }
  ]
}