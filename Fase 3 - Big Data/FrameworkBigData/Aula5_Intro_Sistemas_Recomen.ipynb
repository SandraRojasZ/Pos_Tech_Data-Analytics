{
  "nbformat": 4,
  "nbformat_minor": 0,
  "metadata": {
    "colab": {
      "provenance": [],
      "authorship_tag": "ABX9TyPYU89RM1t2mMOXid+UV7xk"
    },
    "kernelspec": {
      "name": "python3",
      "display_name": "Python 3"
    },
    "language_info": {
      "name": "python"
    }
  },
  "cells": [
    {
      "cell_type": "code",
      "execution_count": 1,
      "metadata": {
        "id": "k2lGgUNxEfGd"
      },
      "outputs": [],
      "source": [
        "import scipy\n",
        "from scipy import stats\n",
        "import numpy as np"
      ]
    },
    {
      "cell_type": "code",
      "source": [
        "# criação de dados\n",
        "matrix = np.array([[8,0,3,4,6],[5,6,1,8,9],[8,0,0,5,10]])\n",
        "novoUser = [8,0,2,3,0]\n",
        "nao_assistidos = [0,1,0,0,1]\n",
        "print(matrix)\n",
        "nomeFilmes = ['Round 6', 'A Invocação do Mal', '9 Desconhecidos', 'You', 'La Casa de Papel']"
      ],
      "metadata": {
        "colab": {
          "base_uri": "https://localhost:8080/"
        },
        "id": "Qj6b1Q-ktBaW",
        "outputId": "2d91316f-b2d1-4fb0-d796-26631910f3d6"
      },
      "execution_count": 2,
      "outputs": [
        {
          "output_type": "stream",
          "name": "stdout",
          "text": [
            "[[ 8  0  3  4  6]\n",
            " [ 5  6  1  8  9]\n",
            " [ 8  0  0  5 10]]\n"
          ]
        }
      ]
    },
    {
      "cell_type": "code",
      "source": [
        "#  cria uma lista chamada similarity com 3 elementos, todos inicializados com o valor 0\n",
        "similarity = [0] * 3\n",
        "print(matrix[0][0])\n",
        "print(matrix[1][0])\n",
        "print(matrix[1,:])\n",
        "# para cada usuário no sistema\n",
        "for i in range(0, 3):\n",
        "  # vamos pegar os dados desse usuários\n",
        "  temp = matrix[i, :]\n",
        "\n",
        "  print(i, temp)\n",
        "  tempUser = [t for n, t in zip(novoUser, temp) if n != 0]\n",
        "  tempNovoUser = [n for n in novoUser if n != 0]\n",
        "\n",
        "  # para verificar o processo\n",
        "  print('user', i)\n",
        "  print(tempUser, tempNovoUser)\n",
        "\n",
        "  # biblioteca scipy.stats calcua o pearson\n",
        "  # Calcula o coeficiente de correlação de Pearson entre as duas listas\n",
        "  similarity[i] = scipy.stats.pearsonr(tempUser, tempNovoUser)[0]\n",
        "print()\n",
        "\n",
        "print(similarity)\n"
      ],
      "metadata": {
        "colab": {
          "base_uri": "https://localhost:8080/"
        },
        "id": "euM2-T1ZuR5H",
        "outputId": "9f6719de-217d-4d9e-b1d6-72e185392e15"
      },
      "execution_count": 4,
      "outputs": [
        {
          "output_type": "stream",
          "name": "stdout",
          "text": [
            "8\n",
            "5\n",
            "[5 6 1 8 9]\n",
            "0 [8 0 3 4 6]\n",
            "user 0\n",
            "[8, 3, 4] [8, 2, 3]\n",
            "1 [5 6 1 8 9]\n",
            "user 1\n",
            "[5, 1, 8] [8, 2, 3]\n",
            "2 [ 8  0  0  5 10]\n",
            "user 2\n",
            "[8, 0, 5] [8, 2, 3]\n",
            "\n",
            "[0.9994237971287663, 0.23621543814299698, 0.8723686098443353]\n"
          ]
        }
      ]
    },
    {
      "cell_type": "code",
      "source": [
        "#  cria uma tabela com 3 linhas (para 3 amigos) e 5 colunas (para 5 filmes)\n",
        "nota_peso = np.zeros((3,5))\n",
        "\n",
        "for nUser in range(3):\n",
        "  for nFilme in range(5):\n",
        "    print('nota_peso[',nUser,'][',nFilme,'] = nao_assistidos[',nFilme,'] * matrix[',nUser,'][',nFilme,'] * similarity[',nUser,']')\n",
        "    print('nota_peso[',nUser,'][',nFilme,'] = ', nao_assistidos[nFilme], ' * ',matrix[nUser][nFilme],' * ', similarity[nUser])\n",
        "    nota_peso[nUser][nFilme] = nao_assistidos[nFilme] * matrix[nUser][nFilme] * similarity[nUser]\n",
        "\n",
        "print(nota_peso)"
      ],
      "metadata": {
        "colab": {
          "base_uri": "https://localhost:8080/"
        },
        "id": "bXJXcrBNyIhq",
        "outputId": "328a6423-5a8e-4e42-9f38-201a3f531a80"
      },
      "execution_count": 8,
      "outputs": [
        {
          "output_type": "stream",
          "name": "stdout",
          "text": [
            "nota_peso[ 0 ][ 0 ] = nao_assistidos[ 0 ] * matrix[ 0 ][ 0 ] * similarity[ 0 ]\n",
            "nota_peso[ 0 ][ 0 ] =  0  *  8  *  0.9994237971287663\n",
            "nota_peso[ 0 ][ 1 ] = nao_assistidos[ 1 ] * matrix[ 0 ][ 1 ] * similarity[ 0 ]\n",
            "nota_peso[ 0 ][ 1 ] =  1  *  0  *  0.9994237971287663\n",
            "nota_peso[ 0 ][ 2 ] = nao_assistidos[ 2 ] * matrix[ 0 ][ 2 ] * similarity[ 0 ]\n",
            "nota_peso[ 0 ][ 2 ] =  0  *  3  *  0.9994237971287663\n",
            "nota_peso[ 0 ][ 3 ] = nao_assistidos[ 3 ] * matrix[ 0 ][ 3 ] * similarity[ 0 ]\n",
            "nota_peso[ 0 ][ 3 ] =  0  *  4  *  0.9994237971287663\n",
            "nota_peso[ 0 ][ 4 ] = nao_assistidos[ 4 ] * matrix[ 0 ][ 4 ] * similarity[ 0 ]\n",
            "nota_peso[ 0 ][ 4 ] =  1  *  6  *  0.9994237971287663\n",
            "nota_peso[ 1 ][ 0 ] = nao_assistidos[ 0 ] * matrix[ 1 ][ 0 ] * similarity[ 1 ]\n",
            "nota_peso[ 1 ][ 0 ] =  0  *  5  *  0.23621543814299698\n",
            "nota_peso[ 1 ][ 1 ] = nao_assistidos[ 1 ] * matrix[ 1 ][ 1 ] * similarity[ 1 ]\n",
            "nota_peso[ 1 ][ 1 ] =  1  *  6  *  0.23621543814299698\n",
            "nota_peso[ 1 ][ 2 ] = nao_assistidos[ 2 ] * matrix[ 1 ][ 2 ] * similarity[ 1 ]\n",
            "nota_peso[ 1 ][ 2 ] =  0  *  1  *  0.23621543814299698\n",
            "nota_peso[ 1 ][ 3 ] = nao_assistidos[ 3 ] * matrix[ 1 ][ 3 ] * similarity[ 1 ]\n",
            "nota_peso[ 1 ][ 3 ] =  0  *  8  *  0.23621543814299698\n",
            "nota_peso[ 1 ][ 4 ] = nao_assistidos[ 4 ] * matrix[ 1 ][ 4 ] * similarity[ 1 ]\n",
            "nota_peso[ 1 ][ 4 ] =  1  *  9  *  0.23621543814299698\n",
            "nota_peso[ 2 ][ 0 ] = nao_assistidos[ 0 ] * matrix[ 2 ][ 0 ] * similarity[ 2 ]\n",
            "nota_peso[ 2 ][ 0 ] =  0  *  8  *  0.8723686098443353\n",
            "nota_peso[ 2 ][ 1 ] = nao_assistidos[ 1 ] * matrix[ 2 ][ 1 ] * similarity[ 2 ]\n",
            "nota_peso[ 2 ][ 1 ] =  1  *  0  *  0.8723686098443353\n",
            "nota_peso[ 2 ][ 2 ] = nao_assistidos[ 2 ] * matrix[ 2 ][ 2 ] * similarity[ 2 ]\n",
            "nota_peso[ 2 ][ 2 ] =  0  *  0  *  0.8723686098443353\n",
            "nota_peso[ 2 ][ 3 ] = nao_assistidos[ 3 ] * matrix[ 2 ][ 3 ] * similarity[ 2 ]\n",
            "nota_peso[ 2 ][ 3 ] =  0  *  5  *  0.8723686098443353\n",
            "nota_peso[ 2 ][ 4 ] = nao_assistidos[ 4 ] * matrix[ 2 ][ 4 ] * similarity[ 2 ]\n",
            "nota_peso[ 2 ][ 4 ] =  1  *  10  *  0.8723686098443353\n",
            "[[0.         0.         0.         0.         5.99654278]\n",
            " [0.         1.41729263 0.         0.         2.12593894]\n",
            " [0.         0.         0.         0.         8.7236861 ]]\n"
          ]
        }
      ]
    },
    {
      "cell_type": "code",
      "source": [
        "notas_acumuladas = np.sum(nota_peso.T, axis = 1)\n",
        "print(notas_acumuladas)"
      ],
      "metadata": {
        "id": "XNtqrDE3AwQC",
        "outputId": "798e2da8-e5f7-47ff-fb3b-4cdca676fc0a",
        "colab": {
          "base_uri": "https://localhost:8080/"
        }
      },
      "execution_count": 10,
      "outputs": [
        {
          "output_type": "stream",
          "name": "stdout",
          "text": [
            "[ 0.          1.41729263  0.          0.         16.84616782]\n"
          ]
        }
      ]
    },
    {
      "cell_type": "code",
      "source": [
        "temp_peso = nota_peso\n",
        "# Quando a nota for maior q Zero será atribuido 1, assim tendo uma marcação\n",
        "temp_peso[nota_peso > 0] = 1\n",
        "print(temp_peso)\n",
        "\n",
        "temp_similaridade= np.zeros((3,5))\n",
        "for nUser in range(3):\n",
        "  for nFilme in range(5):\n",
        "    temp_similaridade[nUser][nFilme] = temp_peso[nUser][nFilme] * similarity[nUser]\n",
        "\n",
        "print(temp_similaridade)\n",
        "\n",
        "similaridade_acumulada = np.sum(temp_similaridade.T, axis = 1)\n",
        "print(similaridade_acumulada)"
      ],
      "metadata": {
        "id": "yNyOUTeWA3Jt",
        "outputId": "8adcc801-b33c-4f8f-b499-ee122fdb1fad",
        "colab": {
          "base_uri": "https://localhost:8080/"
        }
      },
      "execution_count": 11,
      "outputs": [
        {
          "output_type": "stream",
          "name": "stdout",
          "text": [
            "[[0. 0. 0. 0. 1.]\n",
            " [0. 1. 0. 0. 1.]\n",
            " [0. 0. 0. 0. 1.]]\n",
            "[[0.         0.         0.         0.         0.9994238 ]\n",
            " [0.         0.23621544 0.         0.         0.23621544]\n",
            " [0.         0.         0.         0.         0.87236861]]\n",
            "[0.         0.23621544 0.         0.         2.10800785]\n"
          ]
        }
      ]
    },
    {
      "cell_type": "code",
      "source": [
        "# Cada caixinha representa um filme e, no final, terá a \"nota final\" desse filme. No começo, todas as caixinhas estão vazias, marcadas com 0.\n",
        "nota_final = [0]* 5\n",
        "# normalizaçõa pela soma dos pesos\n",
        "for nFilme in range(5):\n",
        "  if(similaridade_acumulada[nFilme] > 0):\n",
        "    nota_final[nFilme] = notas_acumuladas[nFilme] / similaridade_acumulada[nFilme]\n",
        "  else:\n",
        "    nota_final[nFilme] = 0\n",
        "\n",
        "print(nota_final)"
      ],
      "metadata": {
        "id": "6TtAhc2VDWoR",
        "outputId": "53c2012d-70f0-42c3-970c-e5f4c4629634",
        "colab": {
          "base_uri": "https://localhost:8080/"
        }
      },
      "execution_count": 13,
      "outputs": [
        {
          "output_type": "stream",
          "name": "stdout",
          "text": [
            "[0, 6.0, 0, 0, 7.991510972567143]\n"
          ]
        }
      ]
    },
    {
      "cell_type": "code",
      "source": [
        "nAssistidos = sum(nao_assistidos)\n",
        "\n",
        "notasOrdenadasIndex = sorted(range(len(nota_final)), key=nota_final.__getitem__)[::-1][0:nAssistidos]\n",
        "print(notasOrdenadasIndex)\n",
        "for i in notasOrdenadasIndex:\n",
        "  print(nomeFilmes[i], 'nota: ', nota_final[i])"
      ],
      "metadata": {
        "id": "1aQHY7FyGHFy",
        "outputId": "d9170d80-4d5b-46d4-cfb2-05a411e63cde",
        "colab": {
          "base_uri": "https://localhost:8080/"
        }
      },
      "execution_count": 14,
      "outputs": [
        {
          "output_type": "stream",
          "name": "stdout",
          "text": [
            "[4, 1]\n",
            "La Casa de Papel nota:  7.991510972567143\n",
            "A Invocação do Mal nota:  6.0\n"
          ]
        }
      ]
    }
  ]
}