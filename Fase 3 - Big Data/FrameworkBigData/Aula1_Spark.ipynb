{
  "nbformat": 4,
  "nbformat_minor": 0,
  "metadata": {
    "colab": {
      "provenance": [],
      "authorship_tag": "ABX9TyO3YSxSNijKVP8iXjWuYUZF"
    },
    "kernelspec": {
      "name": "python3",
      "display_name": "Python 3"
    },
    "language_info": {
      "name": "python"
    }
  },
  "cells": [
    {
      "cell_type": "markdown",
      "source": [
        "# Aula 1 - Conhecendo o Spark"
      ],
      "metadata": {
        "id": "-JwsrJXHF6Gv"
      }
    },
    {
      "cell_type": "code",
      "execution_count": null,
      "metadata": {
        "id": "k2lGgUNxEfGd"
      },
      "outputs": [],
      "source": [
        "#! pip install pyspark"
      ]
    },
    {
      "cell_type": "code",
      "source": [
        "!pip install findspark"
      ],
      "metadata": {
        "id": "bCS1Cw9W5La8",
        "outputId": "71431670-e9ac-4e35-ed45-695714e4da9a",
        "colab": {
          "base_uri": "https://localhost:8080/"
        }
      },
      "execution_count": null,
      "outputs": [
        {
          "output_type": "stream",
          "name": "stdout",
          "text": [
            "Collecting findspark\n",
            "  Downloading findspark-2.0.1-py2.py3-none-any.whl.metadata (352 bytes)\n",
            "Downloading findspark-2.0.1-py2.py3-none-any.whl (4.4 kB)\n",
            "Installing collected packages: findspark\n",
            "Successfully installed findspark-2.0.1\n"
          ]
        }
      ]
    },
    {
      "cell_type": "code",
      "source": [
        "import  findspark\n",
        "findspark.init()\n",
        "from pyspark.sql import SparkSession\n",
        "spark = SparkSession.builder.master(\"local[*]\").getOrCreate()"
      ],
      "metadata": {
        "id": "Ln07H5Ey5VCH"
      },
      "execution_count": null,
      "outputs": []
    },
    {
      "cell_type": "code",
      "source": [
        "df = spark.sql('''select 'Sucesso Total, estamos online' as hello ''')\n",
        "df.show()"
      ],
      "metadata": {
        "id": "WzalpaBo555g",
        "outputId": "b07fbd25-99a6-493c-9ecf-2a7b3c7b6f11",
        "colab": {
          "base_uri": "https://localhost:8080/"
        }
      },
      "execution_count": null,
      "outputs": [
        {
          "output_type": "stream",
          "name": "stdout",
          "text": [
            "+--------------------+\n",
            "|               hello|\n",
            "+--------------------+\n",
            "|Sucesso Total, es...|\n",
            "+--------------------+\n",
            "\n"
          ]
        }
      ]
    },
    {
      "cell_type": "code",
      "source": [
        "# Import spark libraries\n",
        "from pyspark.sql import Row, DataFrame\n",
        "from pyspark.sql.types import StringType, StructType, StructField, IntegerType\n",
        "from pyspark.sql.functions import col, expr, lit, substring, concat, concat_ws, when, coalesce\n",
        "from pyspark.sql import functions as F # for mor sql functions\n",
        "from functools import reduce"
      ],
      "metadata": {
        "id": "IysKix0G8OO0"
      },
      "execution_count": null,
      "outputs": []
    },
    {
      "cell_type": "markdown",
      "source": [
        "# Data Manipulation using Park"
      ],
      "metadata": {
        "id": "XzOIrxV1Azn9"
      }
    },
    {
      "cell_type": "code",
      "source": [
        "import requests\n",
        "import pandas as pd\n",
        "import io\n",
        "\n",
        "url = \"https://raw.githubusercontent.com/SandraRojasZ/Pos_Tech_Data_Analytics/main/Base_de_Dados/banklist.csv\"\n",
        "#df = spark.read.csv('banklist.csv', sep = ',', inferSchema = True, header = True)\n",
        "response = requests.get(url)\n",
        "response.raise_for_status()  # Raise an exception for bad status codes\n",
        "\n",
        "# Convert the data to a Pandas DataFrame\n",
        "data = response.text\n",
        "df_pandas = pd.read_csv(io.StringIO(data))"
      ],
      "metadata": {
        "id": "mGQ6guzkCKw6"
      },
      "execution_count": null,
      "outputs": []
    },
    {
      "cell_type": "code",
      "source": [
        "df = spark.createDataFrame(df_pandas)\n",
        "\n",
        "print('df.count :', df.count())\n",
        "print('df.col ct :', len(df.columns))\n",
        "print('df.columns:', df.columns)"
      ],
      "metadata": {
        "id": "-hbIRWekHRGG",
        "outputId": "13321225-d809-436e-a6e8-80c66bad4c28",
        "colab": {
          "base_uri": "https://localhost:8080/"
        }
      },
      "execution_count": null,
      "outputs": [
        {
          "output_type": "stream",
          "name": "stdout",
          "text": [
            "df.count : 561\n",
            "df.col ct : 6\n",
            "df.columns: ['Bank Name', 'City', 'ST', 'CERT', 'Acquiring Institution', 'Closing Date']\n"
          ]
        }
      ]
    },
    {
      "cell_type": "markdown",
      "source": [
        "# Using SQL in PySpark"
      ],
      "metadata": {
        "id": "E_molZ7IJ4xD"
      }
    },
    {
      "cell_type": "code",
      "source": [
        "df.createOrReplaceTempView(\"banklist\")\n",
        "\n",
        "df_check = spark.sql('''select `Bank Name`, City, `Closing Date` from banklist''')\n",
        "#df_check.show(4, truncate = False)\n",
        "df_check.show()"
      ],
      "metadata": {
        "id": "4Eb4zNh9IGAs",
        "outputId": "159ee2b7-c68d-40cc-baf1-efca2d221c03",
        "colab": {
          "base_uri": "https://localhost:8080/"
        }
      },
      "execution_count": null,
      "outputs": [
        {
          "output_type": "stream",
          "name": "stdout",
          "text": [
            "+--------------------+------------------+------------+\n",
            "|           Bank Name|              City|Closing Date|\n",
            "+--------------------+------------------+------------+\n",
            "|The First State Bank|     Barboursville|    3-Apr-20|\n",
            "|  Ericson State Bank|           Ericson|   14-Feb-20|\n",
            "|City National Ban...|            Newark|    1-Nov-19|\n",
            "|       Resolute Bank|            Maumee|   25-Oct-19|\n",
            "|Louisa Community ...|            Louisa|   25-Oct-19|\n",
            "|The Enloe State Bank|            Cooper|   31-May-19|\n",
            "|Washington Federa...|           Chicago|   15-Dec-17|\n",
            "|The Farmers and M...|           Argonia|   13-Oct-17|\n",
            "| Fayette County Bank|        Saint Elmo|   26-May-17|\n",
            "|Guaranty Bank, (d...|         Milwaukee|    5-May-17|\n",
            "|      First NBC Bank|       New Orleans|   28-Apr-17|\n",
            "|       Proficio Bank|Cottonwood Heights|    3-Mar-17|\n",
            "|Seaway Bank and T...|           Chicago|   27-Jan-17|\n",
            "|Harvest Community...|        Pennsville|   13-Jan-17|\n",
            "|         Allied Bank|          Mulberry|   23-Sep-16|\n",
            "|The Woodbury Bank...|          Woodbury|   19-Aug-16|\n",
            "|First CornerStone...|   King of Prussia|    6-May-16|\n",
            "|  Trust Company Bank|           Memphis|   29-Apr-16|\n",
            "|North Milwaukee S...|         Milwaukee|   11-Mar-16|\n",
            "|Hometown National...|          Longview|    2-Oct-15|\n",
            "+--------------------+------------------+------------+\n",
            "only showing top 20 rows\n",
            "\n"
          ]
        }
      ]
    },
    {
      "cell_type": "markdown",
      "source": [
        "# DataFrame Basic Operations"
      ],
      "metadata": {
        "id": "j-alTKMQNPzc"
      }
    },
    {
      "cell_type": "code",
      "source": [
        "df.describe().show()"
      ],
      "metadata": {
        "id": "ud_17TcJK04n",
        "outputId": "18bd9e7b-33e4-4bf5-ffd0-957036fe3d6d",
        "colab": {
          "base_uri": "https://localhost:8080/"
        }
      },
      "execution_count": null,
      "outputs": [
        {
          "output_type": "stream",
          "name": "stdout",
          "text": [
            "+-------+--------------------+-------+----+------------------+---------------------+------------+\n",
            "|summary|           Bank Name|   City|  ST|              CERT|Acquiring Institution|Closing Date|\n",
            "+-------+--------------------+-------+----+------------------+---------------------+------------+\n",
            "|  count|                 561|    561| 561|               561|                  561|         561|\n",
            "|   mean|                NULL|   NULL|NULL| 31685.68449197861|                 NULL|        NULL|\n",
            "| stddev|                NULL|   NULL|NULL|16446.656593099655|                 NULL|        NULL|\n",
            "|    min|1st American Stat...|Acworth|  AL|                91|      1st United Bank|    1-Aug-08|\n",
            "|    max|               ebank|Wyoming|  WY|             58701|  Your Community Bank|    9-Sep-11|\n",
            "+-------+--------------------+-------+----+------------------+---------------------+------------+\n",
            "\n"
          ]
        }
      ]
    },
    {
      "cell_type": "code",
      "source": [
        "df.describe('City', 'ST').show()"
      ],
      "metadata": {
        "id": "1VGu2wbwNYuj",
        "outputId": "e36d2bc2-0777-4788-a64f-12bfb992b5de",
        "colab": {
          "base_uri": "https://localhost:8080/"
        }
      },
      "execution_count": null,
      "outputs": [
        {
          "output_type": "stream",
          "name": "stdout",
          "text": [
            "+-------+-------+----+\n",
            "|summary|   City|  ST|\n",
            "+-------+-------+----+\n",
            "|  count|    561| 561|\n",
            "|   mean|   NULL|NULL|\n",
            "| stddev|   NULL|NULL|\n",
            "|    min|Acworth|  AL|\n",
            "|    max|Wyoming|  WY|\n",
            "+-------+-------+----+\n",
            "\n"
          ]
        }
      ]
    },
    {
      "cell_type": "markdown",
      "source": [
        "# Count, Columns and Schema"
      ],
      "metadata": {
        "id": "4dfwS47QN-57"
      }
    },
    {
      "cell_type": "code",
      "source": [
        "print('Total de linhas:', df.count())\n",
        "print('Total de colunas:', len(df.columns))\n",
        "print('Colunas:', df.columns)\n",
        "print('Tipo de Dados:', df.dtypes)\n",
        "print('Schema:', df.schema)"
      ],
      "metadata": {
        "id": "NZyh75bLN4gY",
        "outputId": "1a201180-33fe-43ee-dc97-d4560676c2d3",
        "colab": {
          "base_uri": "https://localhost:8080/"
        }
      },
      "execution_count": null,
      "outputs": [
        {
          "output_type": "stream",
          "name": "stdout",
          "text": [
            "Total de linhas: 561\n",
            "Total de colunas: 6\n",
            "Colunas: ['Bank Name', 'City', 'ST', 'CERT', 'Acquiring Institution', 'Closing Date']\n",
            "Tipo de Dados: [('Bank Name', 'string'), ('City', 'string'), ('ST', 'string'), ('CERT', 'bigint'), ('Acquiring Institution', 'string'), ('Closing Date', 'string')]\n",
            "Schema: StructType([StructField('Bank Name', StringType(), True), StructField('City', StringType(), True), StructField('ST', StringType(), True), StructField('CERT', LongType(), True), StructField('Acquiring Institution', StringType(), True), StructField('Closing Date', StringType(), True)])\n"
          ]
        }
      ]
    },
    {
      "cell_type": "code",
      "source": [
        "df.printSchema()"
      ],
      "metadata": {
        "id": "drkULJWWOY6k",
        "outputId": "4c8cc6fe-3010-4645-d819-5bebe932e85d",
        "colab": {
          "base_uri": "https://localhost:8080/"
        }
      },
      "execution_count": null,
      "outputs": [
        {
          "output_type": "stream",
          "name": "stdout",
          "text": [
            "root\n",
            " |-- Bank Name: string (nullable = true)\n",
            " |-- City: string (nullable = true)\n",
            " |-- ST: string (nullable = true)\n",
            " |-- CERT: long (nullable = true)\n",
            " |-- Acquiring Institution: string (nullable = true)\n",
            " |-- Closing Date: string (nullable = true)\n",
            "\n"
          ]
        }
      ]
    },
    {
      "cell_type": "markdown",
      "source": [
        "# Remove duplicates"
      ],
      "metadata": {
        "id": "q9UxTu8zPdYU"
      }
    },
    {
      "cell_type": "code",
      "source": [
        "df = df.dropDuplicates()\n",
        "print('df.count:', df.count())\n",
        "print('df.columns:', df.columns)"
      ],
      "metadata": {
        "id": "Seag_aBsPU9p",
        "outputId": "2d9e2994-deeb-40dd-f2ae-257c650767ae",
        "colab": {
          "base_uri": "https://localhost:8080/"
        }
      },
      "execution_count": null,
      "outputs": [
        {
          "output_type": "stream",
          "name": "stdout",
          "text": [
            "df.count: 561\n",
            "df.columns: ['Bank Name', 'City', 'ST', 'CERT', 'Acquiring Institution', 'Closing Date']\n"
          ]
        }
      ]
    },
    {
      "cell_type": "markdown",
      "source": [
        "# Select Specific Columns"
      ],
      "metadata": {
        "id": "Cl2Uu_WgQAIh"
      }
    },
    {
      "cell_type": "code",
      "source": [
        "df2 = df.select(*['Bank Name', 'City'])\n",
        "df2.show(2)"
      ],
      "metadata": {
        "id": "YyG37LExP4yl",
        "outputId": "f3ff2a7d-7203-4875-8c21-1a88c27d5782",
        "colab": {
          "base_uri": "https://localhost:8080/"
        }
      },
      "execution_count": null,
      "outputs": [
        {
          "output_type": "stream",
          "name": "stdout",
          "text": [
            "+--------------------+-------------+\n",
            "|           Bank Name|         City|\n",
            "+--------------------+-------------+\n",
            "|The First State Bank|Barboursville|\n",
            "|        Coastal Bank|  Cocoa Beach|\n",
            "+--------------------+-------------+\n",
            "only showing top 2 rows\n",
            "\n"
          ]
        }
      ]
    },
    {
      "cell_type": "markdown",
      "source": [
        "# Select Multiple Columns"
      ],
      "metadata": {
        "id": "1NWkMwVoQeeW"
      }
    },
    {
      "cell_type": "code",
      "source": [
        "col_l = list(set(df.columns) - {'CERT', 'ST'})\n",
        "df2 = df.select(*col_l)\n",
        "df2.show(2)"
      ],
      "metadata": {
        "id": "Cjic-YFpQOJj",
        "outputId": "fa23be01-df2f-4944-b5fb-463c0575f3f9",
        "colab": {
          "base_uri": "https://localhost:8080/"
        }
      },
      "execution_count": null,
      "outputs": [
        {
          "output_type": "stream",
          "name": "stdout",
          "text": [
            "+-------------+------------+--------------------+---------------------+\n",
            "|         City|Closing Date|           Bank Name|Acquiring Institution|\n",
            "+-------------+------------+--------------------+---------------------+\n",
            "|Barboursville|    3-Apr-20|The First State Bank|       MVB Bank, Inc.|\n",
            "|  Cocoa Beach|    6-May-11|        Coastal Bank| Florida Community...|\n",
            "+-------------+------------+--------------------+---------------------+\n",
            "only showing top 2 rows\n",
            "\n"
          ]
        }
      ]
    },
    {
      "cell_type": "markdown",
      "source": [
        "# Rename Columns"
      ],
      "metadata": {
        "id": "QQm0mKURQ_7j"
      }
    },
    {
      "cell_type": "code",
      "source": [
        "df2 = df \\\n",
        "    .withColumnRenamed('Bank Name', 'bank_name') \\\n",
        "    .withColumnRenamed('Acquiring Institution', 'acq_institution') \\\n",
        "    .withColumnRenamed('Closing Date', 'closing_date') \\\n",
        "    .withColumnRenamed('ST', 'state') \\\n",
        "    .withColumnRenamed('CERT', 'cert') #\\\n",
        "\n",
        "df2.show(2)"
      ],
      "metadata": {
        "id": "dc4C65YjQtgY",
        "outputId": "ee23d247-a8a5-41e8-9cbb-ebbf1f781328",
        "colab": {
          "base_uri": "https://localhost:8080/"
        }
      },
      "execution_count": null,
      "outputs": [
        {
          "output_type": "stream",
          "name": "stdout",
          "text": [
            "+--------------------+-------------+-----+-----+--------------------+------------+\n",
            "|           bank_name|         City|state| cert|     acq_institution|closing_date|\n",
            "+--------------------+-------------+-----+-----+--------------------+------------+\n",
            "|The First State Bank|Barboursville|   WV|14361|      MVB Bank, Inc.|    3-Apr-20|\n",
            "|        Coastal Bank|  Cocoa Beach|   FL|34898|Florida Community...|    6-May-11|\n",
            "+--------------------+-------------+-----+-----+--------------------+------------+\n",
            "only showing top 2 rows\n",
            "\n"
          ]
        }
      ]
    },
    {
      "cell_type": "markdown",
      "source": [
        "# Add Columns"
      ],
      "metadata": {
        "id": "EZ64-DP5Sf8h"
      }
    },
    {
      "cell_type": "code",
      "source": [
        "df2= df.withColumn('state', col('ST'))\n",
        "df2.show(2)"
      ],
      "metadata": {
        "id": "dQv4oq9LRwVG",
        "outputId": "725ec0b2-edb9-4db1-bc11-b2b977f10469",
        "colab": {
          "base_uri": "https://localhost:8080/"
        }
      },
      "execution_count": null,
      "outputs": [
        {
          "output_type": "stream",
          "name": "stdout",
          "text": [
            "+--------------------+-------------+---+-----+---------------------+------------+-----+\n",
            "|           Bank Name|         City| ST| CERT|Acquiring Institution|Closing Date|state|\n",
            "+--------------------+-------------+---+-----+---------------------+------------+-----+\n",
            "|The First State Bank|Barboursville| WV|14361|       MVB Bank, Inc.|    3-Apr-20|   WV|\n",
            "|        Coastal Bank|  Cocoa Beach| FL|34898| Florida Community...|    6-May-11|   FL|\n",
            "+--------------------+-------------+---+-----+---------------------+------------+-----+\n",
            "only showing top 2 rows\n",
            "\n"
          ]
        }
      ]
    },
    {
      "cell_type": "markdown",
      "source": [
        "# Add constant column"
      ],
      "metadata": {
        "id": "HK4vhTq0S7CB"
      }
    },
    {
      "cell_type": "code",
      "source": [
        "df2 = df.withColumn('country', lit('US'))\n",
        "df2.show(2)"
      ],
      "metadata": {
        "id": "Sqe8lKcySwhC",
        "outputId": "57368f1e-36c0-42bd-a230-8e8fc2d3e175",
        "colab": {
          "base_uri": "https://localhost:8080/"
        }
      },
      "execution_count": null,
      "outputs": [
        {
          "output_type": "stream",
          "name": "stdout",
          "text": [
            "+--------------------+-------------+---+-----+---------------------+------------+-------+\n",
            "|           Bank Name|         City| ST| CERT|Acquiring Institution|Closing Date|country|\n",
            "+--------------------+-------------+---+-----+---------------------+------------+-------+\n",
            "|The First State Bank|Barboursville| WV|14361|       MVB Bank, Inc.|    3-Apr-20|     US|\n",
            "|        Coastal Bank|  Cocoa Beach| FL|34898| Florida Community...|    6-May-11|     US|\n",
            "+--------------------+-------------+---+-----+---------------------+------------+-------+\n",
            "only showing top 2 rows\n",
            "\n"
          ]
        }
      ]
    },
    {
      "cell_type": "markdown",
      "source": [
        "# Drop Columns"
      ],
      "metadata": {
        "id": "_ZeRMnAVTdcN"
      }
    },
    {
      "cell_type": "code",
      "source": [
        "df2 = df.drop('CERT')\n",
        "df2.show(2)"
      ],
      "metadata": {
        "id": "hEk_EkXNTMDc",
        "outputId": "e9e2fc7e-628b-4655-97bf-08ad05cd0b6b",
        "colab": {
          "base_uri": "https://localhost:8080/"
        }
      },
      "execution_count": null,
      "outputs": [
        {
          "output_type": "stream",
          "name": "stdout",
          "text": [
            "+--------------------+-------------+---+---------------------+------------+\n",
            "|           Bank Name|         City| ST|Acquiring Institution|Closing Date|\n",
            "+--------------------+-------------+---+---------------------+------------+\n",
            "|The First State Bank|Barboursville| WV|       MVB Bank, Inc.|    3-Apr-20|\n",
            "|        Coastal Bank|  Cocoa Beach| FL| Florida Community...|    6-May-11|\n",
            "+--------------------+-------------+---+---------------------+------------+\n",
            "only showing top 2 rows\n",
            "\n"
          ]
        }
      ]
    },
    {
      "cell_type": "markdown",
      "source": [
        "# Drop Multiple Columns"
      ],
      "metadata": {
        "id": "dQSNtmNATqvy"
      }
    },
    {
      "cell_type": "code",
      "source": [
        "df2 = df.drop(*['CERT', 'ST'])\n",
        "df2.show(2)"
      ],
      "metadata": {
        "id": "2HOErBf9TmDV",
        "outputId": "6e3f15dd-6c43-400a-d18e-d259510aabdf",
        "colab": {
          "base_uri": "https://localhost:8080/"
        }
      },
      "execution_count": null,
      "outputs": [
        {
          "output_type": "stream",
          "name": "stdout",
          "text": [
            "+--------------------+-------------+---------------------+------------+\n",
            "|           Bank Name|         City|Acquiring Institution|Closing Date|\n",
            "+--------------------+-------------+---------------------+------------+\n",
            "|The First State Bank|Barboursville|       MVB Bank, Inc.|    3-Apr-20|\n",
            "|        Coastal Bank|  Cocoa Beach| Florida Community...|    6-May-11|\n",
            "+--------------------+-------------+---------------------+------------+\n",
            "only showing top 2 rows\n",
            "\n"
          ]
        }
      ]
    },
    {
      "cell_type": "code",
      "source": [
        "df2 = reduce(DataFrame.drop, ['CERT', 'ST'], df)\n",
        "df2.show(2)"
      ],
      "metadata": {
        "id": "9dTfN2b_T12Z",
        "outputId": "45b7c096-54db-49fc-a184-0571ff222cec",
        "colab": {
          "base_uri": "https://localhost:8080/"
        }
      },
      "execution_count": null,
      "outputs": [
        {
          "output_type": "stream",
          "name": "stdout",
          "text": [
            "+--------------------+-------------+---------------------+------------+\n",
            "|           Bank Name|         City|Acquiring Institution|Closing Date|\n",
            "+--------------------+-------------+---------------------+------------+\n",
            "|The First State Bank|Barboursville|       MVB Bank, Inc.|    3-Apr-20|\n",
            "|        Coastal Bank|  Cocoa Beach| Florida Community...|    6-May-11|\n",
            "+--------------------+-------------+---------------------+------------+\n",
            "only showing top 2 rows\n",
            "\n"
          ]
        }
      ]
    },
    {
      "cell_type": "markdown",
      "source": [
        "# Filter Data"
      ],
      "metadata": {
        "id": "Q8a2apf9UWX3"
      }
    },
    {
      "cell_type": "code",
      "source": [
        "# Equal to values\n",
        "df2 = df.where(df['ST'] == 'NE')\n",
        "\n",
        "# Between values\n",
        "df3 = df.where(df['CERT'].between('1000', '2000'))\n",
        "\n",
        "# Is inside multiple values\n",
        "df4 = df.where(df['ST'].isin('NE', 'IL'))\n",
        "\n",
        "print('df.count:', df.count())\n",
        "print('df2.count:', df2.count())\n",
        "print('df3.count:', df3.count())\n",
        "print('df4.count:', df4.count())"
      ],
      "metadata": {
        "id": "pgf2ufIDUQAG",
        "outputId": "1ab8e8ac-28a0-44e3-ac59-659de67d7416",
        "colab": {
          "base_uri": "https://localhost:8080/"
        }
      },
      "execution_count": null,
      "outputs": [
        {
          "output_type": "stream",
          "name": "stdout",
          "text": [
            "df.count: 561\n",
            "df2.count: 4\n",
            "df3.count: 9\n",
            "df4.count: 73\n"
          ]
        }
      ]
    },
    {
      "cell_type": "markdown",
      "source": [
        "# Filter data using logical operators"
      ],
      "metadata": {
        "id": "VeOKBRWTVhiy"
      }
    },
    {
      "cell_type": "code",
      "source": [
        "df2 = df.where((df['ST'] == 'NE') & (df['City'] == 'Ericson'))\n",
        "df2.show(3)"
      ],
      "metadata": {
        "id": "sMoFlwufVWrO",
        "outputId": "5908b812-6494-4ced-c3e4-0396a2ab8239",
        "colab": {
          "base_uri": "https://localhost:8080/"
        }
      },
      "execution_count": null,
      "outputs": [
        {
          "output_type": "stream",
          "name": "stdout",
          "text": [
            "+------------------+-------+---+-----+---------------------+------------+\n",
            "|         Bank Name|   City| ST| CERT|Acquiring Institution|Closing Date|\n",
            "+------------------+-------+---+-----+---------------------+------------+\n",
            "|Ericson State Bank|Ericson| NE|18265| Farmers and Merch...|   14-Feb-20|\n",
            "+------------------+-------+---+-----+---------------------+------------+\n",
            "\n"
          ]
        }
      ]
    },
    {
      "cell_type": "markdown",
      "source": [
        "# Replace values in DataFrame"
      ],
      "metadata": {
        "id": "aAwza1NOWBWK"
      }
    },
    {
      "cell_type": "code",
      "source": [
        "# Pre replace\n",
        "df.show(2)\n",
        "\n",
        "# Post replace\n",
        "print('Replace 7 in the above dataframe with 17 at all instances')\n",
        "df.na.replace(7,17).show(2)"
      ],
      "metadata": {
        "id": "CXOrNioiV3IL",
        "outputId": "db85fb82-1fac-4227-8308-995d6c44b44f",
        "colab": {
          "base_uri": "https://localhost:8080/"
        }
      },
      "execution_count": null,
      "outputs": [
        {
          "output_type": "stream",
          "name": "stdout",
          "text": [
            "+--------------------+-------------+---+-----+---------------------+------------+\n",
            "|           Bank Name|         City| ST| CERT|Acquiring Institution|Closing Date|\n",
            "+--------------------+-------------+---+-----+---------------------+------------+\n",
            "|The First State Bank|Barboursville| WV|14361|       MVB Bank, Inc.|    3-Apr-20|\n",
            "|        Coastal Bank|  Cocoa Beach| FL|34898| Florida Community...|    6-May-11|\n",
            "+--------------------+-------------+---+-----+---------------------+------------+\n",
            "only showing top 2 rows\n",
            "\n",
            "Replace 7 in the above dataframe with 17 at all instances\n",
            "+--------------------+-------------+---+-----+---------------------+------------+\n",
            "|           Bank Name|         City| ST| CERT|Acquiring Institution|Closing Date|\n",
            "+--------------------+-------------+---+-----+---------------------+------------+\n",
            "|The First State Bank|Barboursville| WV|14361|       MVB Bank, Inc.|    3-Apr-20|\n",
            "|        Coastal Bank|  Cocoa Beach| FL|34898| Florida Community...|    6-May-11|\n",
            "+--------------------+-------------+---+-----+---------------------+------------+\n",
            "only showing top 2 rows\n",
            "\n"
          ]
        }
      ]
    },
    {
      "cell_type": "code",
      "source": [],
      "metadata": {
        "id": "C6Z031h7WfMS"
      },
      "execution_count": null,
      "outputs": []
    }
  ]
}