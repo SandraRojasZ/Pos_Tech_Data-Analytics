{
  "nbformat": 4,
  "nbformat_minor": 0,
  "metadata": {
    "colab": {
      "provenance": [],
      "authorship_tag": "ABX9TyPOsHskaMzXHhlhY++/4Rxk"
    },
    "kernelspec": {
      "name": "python3",
      "display_name": "Python 3"
    },
    "language_info": {
      "name": "python"
    }
  },
  "cells": [
    {
      "cell_type": "markdown",
      "source": [
        "# Aula 2 - Operações Básicas no Spark"
      ],
      "metadata": {
        "id": "-JwsrJXHF6Gv"
      }
    },
    {
      "cell_type": "code",
      "execution_count": 1,
      "metadata": {
        "id": "k2lGgUNxEfGd",
        "outputId": "99dfb292-057e-40f7-bcde-d74a80176c46",
        "colab": {
          "base_uri": "https://localhost:8080/"
        }
      },
      "outputs": [
        {
          "output_type": "stream",
          "name": "stdout",
          "text": [
            "Requirement already satisfied: pyspark in /usr/local/lib/python3.11/dist-packages (3.5.4)\n",
            "Requirement already satisfied: py4j==0.10.9.7 in /usr/local/lib/python3.11/dist-packages (from pyspark) (0.10.9.7)\n"
          ]
        }
      ],
      "source": [
        "!pip install pyspark"
      ]
    },
    {
      "cell_type": "markdown",
      "source": [
        "# Criando a sessão do SparkContext e SparkSession"
      ],
      "metadata": {
        "id": "4qU1yr3ij-2w"
      }
    },
    {
      "cell_type": "code",
      "source": [
        "from pyspark import SparkContext\n",
        "from pyspark.sql import SparkSession"
      ],
      "metadata": {
        "id": "Wo0QdKeQj1zp"
      },
      "execution_count": 2,
      "outputs": []
    },
    {
      "cell_type": "code",
      "source": [
        "# Criando o SparkContext\n",
        "sc = SparkContext.getOrCreate()"
      ],
      "metadata": {
        "id": "RsjfEU2mkMKI"
      },
      "execution_count": 3,
      "outputs": []
    },
    {
      "cell_type": "code",
      "source": [
        "spark = SparkSession.builder.appName('PySpark DataFrame From RDD').getOrCreate()"
      ],
      "metadata": {
        "id": "Rhgz2Vk9mMvd"
      },
      "execution_count": 5,
      "outputs": []
    },
    {
      "cell_type": "markdown",
      "source": [
        "# Create PySpark Dataframe from an Existing RDD"
      ],
      "metadata": {
        "id": "nGF1hjF8m6e2"
      }
    },
    {
      "cell_type": "code",
      "source": [
        "# Criando um DataFrame baseado em um rdd existente\n",
        "rdd = sc.parallelize([('C', 85, 76, 87, 91), ('B', 85, 76, 87, 91), (\"A\", 85, 76, 87, 91), (\"A\", 92, 76, 89, 96)])"
      ],
      "metadata": {
        "id": "Oeyyoi4zmTnE"
      },
      "execution_count": 6,
      "outputs": []
    },
    {
      "cell_type": "code",
      "source": [
        "print(type(rdd))"
      ],
      "metadata": {
        "id": "4_YnQqlcnrAM",
        "outputId": "1d4b1330-9ff4-4125-ee8b-d3d9bdd7a7d9",
        "colab": {
          "base_uri": "https://localhost:8080/"
        }
      },
      "execution_count": 7,
      "outputs": [
        {
          "output_type": "stream",
          "name": "stdout",
          "text": [
            "<class 'pyspark.rdd.RDD'>\n"
          ]
        }
      ]
    },
    {
      "cell_type": "code",
      "source": [
        "sub = ['id_person', 'value_1', 'value_2', 'value_3', 'value_4']"
      ],
      "metadata": {
        "id": "n8sX0dr8nwoU"
      },
      "execution_count": 8,
      "outputs": []
    },
    {
      "cell_type": "code",
      "source": [
        "marks_df = spark.createDataFrame(rdd, schema=sub)"
      ],
      "metadata": {
        "id": "ztjbcLLaoC2b"
      },
      "execution_count": 9,
      "outputs": []
    },
    {
      "cell_type": "code",
      "source": [
        "print(type(marks_df))"
      ],
      "metadata": {
        "id": "MyQZdFX_oHch",
        "outputId": "733a9a38-ce3d-4116-f6d7-447b6e45011b",
        "colab": {
          "base_uri": "https://localhost:8080/"
        }
      },
      "execution_count": 10,
      "outputs": [
        {
          "output_type": "stream",
          "name": "stdout",
          "text": [
            "<class 'pyspark.sql.dataframe.DataFrame'>\n"
          ]
        }
      ]
    },
    {
      "cell_type": "code",
      "source": [
        "marks_df.printSchema()"
      ],
      "metadata": {
        "id": "zi-L33NzoOkZ",
        "outputId": "d5c3c397-084d-4fa3-9c43-83e77a6c4fdb",
        "colab": {
          "base_uri": "https://localhost:8080/"
        }
      },
      "execution_count": 11,
      "outputs": [
        {
          "output_type": "stream",
          "name": "stdout",
          "text": [
            "root\n",
            " |-- id_person: string (nullable = true)\n",
            " |-- value_1: long (nullable = true)\n",
            " |-- value_2: long (nullable = true)\n",
            " |-- value_3: long (nullable = true)\n",
            " |-- value_4: long (nullable = true)\n",
            "\n"
          ]
        }
      ]
    },
    {
      "cell_type": "code",
      "source": [
        "marks_df.show()"
      ],
      "metadata": {
        "id": "P5OW4MUootn8",
        "outputId": "26dca870-6f38-4f12-9085-e64a54250b80",
        "colab": {
          "base_uri": "https://localhost:8080/"
        }
      },
      "execution_count": 13,
      "outputs": [
        {
          "output_type": "stream",
          "name": "stdout",
          "text": [
            "+---------+-------+-------+-------+-------+\n",
            "|id_person|value_1|value_2|value_3|value_4|\n",
            "+---------+-------+-------+-------+-------+\n",
            "|        C|     85|     76|     87|     91|\n",
            "|        B|     85|     76|     87|     91|\n",
            "|        A|     85|     76|     87|     91|\n",
            "|        A|     92|     76|     89|     96|\n",
            "+---------+-------+-------+-------+-------+\n",
            "\n"
          ]
        }
      ]
    },
    {
      "cell_type": "markdown",
      "source": [
        "# Creating and Manipulation Data in PySpark DataFrame"
      ],
      "metadata": {
        "id": "mWg5Goeqq-WJ"
      }
    },
    {
      "cell_type": "code",
      "source": [
        "!pip install pyspark\n",
        "import pyspark\n",
        "from pyspark.sql import SparkSession\n",
        "spark=SparkSession.builder.appName(\"pysparkdf\").getOrCreate()"
      ],
      "metadata": {
        "id": "t9NfsWgXqmik",
        "outputId": "96ef6b41-d4ee-4788-fb97-9d760ad9d1b9",
        "colab": {
          "base_uri": "https://localhost:8080/"
        }
      },
      "execution_count": 14,
      "outputs": [
        {
          "output_type": "stream",
          "name": "stdout",
          "text": [
            "Requirement already satisfied: pyspark in /usr/local/lib/python3.11/dist-packages (3.5.4)\n",
            "Requirement already satisfied: py4j==0.10.9.7 in /usr/local/lib/python3.11/dist-packages (from pyspark) (0.10.9.7)\n"
          ]
        }
      ]
    },
    {
      "cell_type": "markdown",
      "source": [
        "# Importing Data"
      ],
      "metadata": {
        "id": "RC3VRN1GrJmN"
      }
    },
    {
      "cell_type": "code",
      "source": [
        "import requests\n",
        "import pandas as pd\n",
        "import io\n",
        "\n",
        "url = \"https://raw.githubusercontent.com/SandraRojasZ/Pos_Tech_Data_Analytics/main/Base_de_Dados/cereal.csv\"\n",
        "#df = spark.read.csv('cereal.csv', sep = ',', inferSchema = True, header = True)\n",
        "response = requests.get(url)\n",
        "response.raise_for_status()  # Raise an exception for bad status codes\n",
        "\n",
        "# Convert the data to a Pandas DataFrame\n",
        "data = response.text\n",
        "df_pandas = pd.read_csv(io.StringIO(data))"
      ],
      "metadata": {
        "id": "pg22SqxlqzAm"
      },
      "execution_count": 15,
      "outputs": []
    },
    {
      "cell_type": "code",
      "source": [
        "df = spark.createDataFrame(df_pandas)\n",
        "\n",
        "print('df.count :', df.count())\n",
        "print('df.col ct :', len(df.columns))\n",
        "print('df.columns:', df.columns)"
      ],
      "metadata": {
        "id": "SaRk0IQbuKEN",
        "outputId": "1d020f15-5c99-4aff-c29a-c0cacf9bc4dd",
        "colab": {
          "base_uri": "https://localhost:8080/"
        }
      },
      "execution_count": 16,
      "outputs": [
        {
          "output_type": "stream",
          "name": "stdout",
          "text": [
            "df.count : 77\n",
            "df.col ct : 16\n",
            "df.columns: ['name', 'mfr', 'type', 'calories', 'protein', 'fat', 'sodium', 'fiber', 'carbo', 'sugars', 'potass', 'vitamins', 'shelf', 'weight', 'cups', 'rating']\n"
          ]
        }
      ]
    },
    {
      "cell_type": "markdown",
      "source": [
        "# Reading the Schema"
      ],
      "metadata": {
        "id": "ctv6HiBkubvw"
      }
    },
    {
      "cell_type": "code",
      "source": [
        "# Verificando o que contem na tabela\n",
        "df.printSchema()"
      ],
      "metadata": {
        "id": "XS0o0swAuLMK",
        "outputId": "20c9a755-5eca-4da0-db59-95b5288872d2",
        "colab": {
          "base_uri": "https://localhost:8080/"
        }
      },
      "execution_count": 17,
      "outputs": [
        {
          "output_type": "stream",
          "name": "stdout",
          "text": [
            "root\n",
            " |-- name: string (nullable = true)\n",
            " |-- mfr: string (nullable = true)\n",
            " |-- type: string (nullable = true)\n",
            " |-- calories: long (nullable = true)\n",
            " |-- protein: long (nullable = true)\n",
            " |-- fat: long (nullable = true)\n",
            " |-- sodium: long (nullable = true)\n",
            " |-- fiber: double (nullable = true)\n",
            " |-- carbo: double (nullable = true)\n",
            " |-- sugars: long (nullable = true)\n",
            " |-- potass: long (nullable = true)\n",
            " |-- vitamins: long (nullable = true)\n",
            " |-- shelf: long (nullable = true)\n",
            " |-- weight: double (nullable = true)\n",
            " |-- cups: double (nullable = true)\n",
            " |-- rating: double (nullable = true)\n",
            "\n"
          ]
        }
      ]
    },
    {
      "cell_type": "markdown",
      "source": [
        "# Select()"
      ],
      "metadata": {
        "id": "MYQrDApSv7Hr"
      }
    },
    {
      "cell_type": "code",
      "source": [
        "# Seleção das Colunas\n",
        "df.select('name', 'mfr','rating').show()"
      ],
      "metadata": {
        "id": "iWKoRzJ3vu8Q",
        "outputId": "95f4d645-fe35-4df2-bcc4-10e017dff7e2",
        "colab": {
          "base_uri": "https://localhost:8080/"
        }
      },
      "execution_count": 19,
      "outputs": [
        {
          "output_type": "stream",
          "name": "stdout",
          "text": [
            "+--------------------+---+---------+\n",
            "|                name|mfr|   rating|\n",
            "+--------------------+---+---------+\n",
            "|           100% Bran|  N|68.402973|\n",
            "|   100% Natural Bran|  Q|33.983679|\n",
            "|            All-Bran|  K|59.425505|\n",
            "|All-Bran with Ext...|  K|93.704912|\n",
            "|      Almond Delight|  R|34.384843|\n",
            "|Apple Cinnamon Ch...|  G|29.509541|\n",
            "|         Apple Jacks|  K|33.174094|\n",
            "|             Basic 4|  G|37.038562|\n",
            "|           Bran Chex|  R|49.120253|\n",
            "|         Bran Flakes|  P|53.313813|\n",
            "|        Cap'n'Crunch|  Q|18.042851|\n",
            "|            Cheerios|  G|50.764999|\n",
            "|Cinnamon Toast Cr...|  G|19.823573|\n",
            "|            Clusters|  G|40.400208|\n",
            "|         Cocoa Puffs|  G|22.736446|\n",
            "|           Corn Chex|  R|41.445019|\n",
            "|         Corn Flakes|  K|45.863324|\n",
            "|           Corn Pops|  K|35.782791|\n",
            "|       Count Chocula|  G|22.396513|\n",
            "|  Cracklin' Oat Bran|  K|40.448772|\n",
            "+--------------------+---+---------+\n",
            "only showing top 20 rows\n",
            "\n"
          ]
        }
      ]
    },
    {
      "cell_type": "code",
      "source": [
        "# withColumn() para renomear e alterar o tipo de dado de long para Integer\n",
        "# Mudando c para C\n",
        "df.withColumn('Calories', df['calories'].cast(\"Integer\")).printSchema()"
      ],
      "metadata": {
        "id": "6cGFTExgwEBf",
        "outputId": "bbd4e1d1-d3a4-45fe-cb5a-635c439b12ba",
        "colab": {
          "base_uri": "https://localhost:8080/"
        }
      },
      "execution_count": 20,
      "outputs": [
        {
          "output_type": "stream",
          "name": "stdout",
          "text": [
            "root\n",
            " |-- name: string (nullable = true)\n",
            " |-- mfr: string (nullable = true)\n",
            " |-- type: string (nullable = true)\n",
            " |-- Calories: integer (nullable = true)\n",
            " |-- protein: long (nullable = true)\n",
            " |-- fat: long (nullable = true)\n",
            " |-- sodium: long (nullable = true)\n",
            " |-- fiber: double (nullable = true)\n",
            " |-- carbo: double (nullable = true)\n",
            " |-- sugars: long (nullable = true)\n",
            " |-- potass: long (nullable = true)\n",
            " |-- vitamins: long (nullable = true)\n",
            " |-- shelf: long (nullable = true)\n",
            " |-- weight: double (nullable = true)\n",
            " |-- cups: double (nullable = true)\n",
            " |-- rating: double (nullable = true)\n",
            "\n"
          ]
        }
      ]
    },
    {
      "cell_type": "code",
      "source": [
        "# groupBy | Agrupando e contando os dados\n",
        "df.groupBy('calories').count().show()"
      ],
      "metadata": {
        "id": "45lYoOVQwoOL",
        "outputId": "3595be2d-fd13-4da9-f8f8-560acd3b7b29",
        "colab": {
          "base_uri": "https://localhost:8080/"
        }
      },
      "execution_count": 22,
      "outputs": [
        {
          "output_type": "stream",
          "name": "stdout",
          "text": [
            "+--------+-----+\n",
            "|calories|count|\n",
            "+--------+-----+\n",
            "|     130|    2|\n",
            "|      50|    3|\n",
            "|     110|   29|\n",
            "|     120|   10|\n",
            "|     100|   17|\n",
            "|      90|    7|\n",
            "|      70|    2|\n",
            "|     150|    2|\n",
            "|     160|    1|\n",
            "|      80|    1|\n",
            "|     140|    3|\n",
            "+--------+-----+\n",
            "\n"
          ]
        }
      ]
    },
    {
      "cell_type": "code",
      "source": [
        "# orderBy | Ordenação dos dados\n",
        "df.orderBy('calories').show()"
      ],
      "metadata": {
        "id": "OZirzY_KxAyx",
        "outputId": "fca26072-29ae-48a1-80ae-21618258daa3",
        "colab": {
          "base_uri": "https://localhost:8080/"
        }
      },
      "execution_count": 24,
      "outputs": [
        {
          "output_type": "stream",
          "name": "stdout",
          "text": [
            "+--------------------+---+----+--------+-------+---+------+-----+-----+------+------+--------+-----+------+----+---------+\n",
            "|                name|mfr|type|calories|protein|fat|sodium|fiber|carbo|sugars|potass|vitamins|shelf|weight|cups|   rating|\n",
            "+--------------------+---+----+--------+-------+---+------+-----+-----+------+------+--------+-----+------+----+---------+\n",
            "|All-Bran with Ext...|  K|   C|      50|      4|  0|   140| 14.0|  8.0|     0|   330|      25|    3|   1.0| 0.5|93.704912|\n",
            "|         Puffed Rice|  Q|   C|      50|      1|  0|     0|  0.0| 13.0|     0|    15|       0|    3|   0.5| 1.0|60.756112|\n",
            "|        Puffed Wheat|  Q|   C|      50|      2|  0|     0|  1.0| 10.0|     0|    50|       0|    3|   0.5| 1.0|63.005645|\n",
            "|           100% Bran|  N|   C|      70|      4|  1|   130| 10.0|  5.0|     6|   280|      25|    3|   1.0|0.33|68.402973|\n",
            "|            All-Bran|  K|   C|      70|      4|  1|   260|  9.0|  7.0|     5|   320|      25|    3|   1.0|0.33|59.425505|\n",
            "|      Shredded Wheat|  N|   C|      80|      2|  0|     0|  3.0| 16.0|     0|    95|       0|    1|  0.83| 1.0|68.235885|\n",
            "|           Bran Chex|  R|   C|      90|      2|  1|   200|  4.0| 15.0|     6|   125|      25|    1|   1.0|0.67|49.120253|\n",
            "|   Nutri-grain Wheat|  K|   C|      90|      3|  0|   170|  3.0| 18.0|     2|    90|      25|    3|   1.0| 1.0|59.642837|\n",
            "|         Bran Flakes|  P|   C|      90|      3|  0|   210|  5.0| 13.0|     5|   190|      25|    3|   1.0|0.67|53.313813|\n",
            "|      Raisin Squares|  K|   C|      90|      2|  0|     0|  2.0| 15.0|     6|   110|      25|    3|   1.0| 0.5|55.333142|\n",
            "|Shredded Wheat 'n...|  N|   C|      90|      3|  0|     0|  4.0| 19.0|     0|   140|       0|    1|   1.0|0.67|74.472949|\n",
            "|Shredded Wheat sp...|  N|   C|      90|      3|  0|     0|  3.0| 20.0|     0|   120|       0|    1|   1.0|0.67|72.801787|\n",
            "|Strawberry Fruit ...|  N|   C|      90|      2|  0|    15|  3.0| 15.0|     5|    90|      25|    2|   1.0| 1.0|59.363993|\n",
            "|         Corn Flakes|  K|   C|     100|      2|  0|   290|  1.0| 21.0|     2|    35|      25|    1|   1.0| 1.0|45.863324|\n",
            "|                Life|  Q|   C|     100|      4|  2|   150|  2.0| 12.0|     6|    95|      25|    2|   1.0|0.67|45.328074|\n",
            "|Cream of Wheat (Q...|  N|   H|     100|      3|  0|    80|  1.0| 21.0|     0|    -1|       0|    2|   1.0| 1.0|64.533816|\n",
            "|               Maypo|  A|   H|     100|      4|  1|     0|  0.0| 16.0|     3|    95|      25|    2|   1.0| 1.0|54.850917|\n",
            "|Crispy Wheat & Ra...|  G|   C|     100|      2|  1|   140|  2.0| 11.0|    10|   120|      25|    3|   1.0|0.75|36.176196|\n",
            "|Multi-Grain Cheerios|  G|   C|     100|      2|  1|   220|  2.0| 15.0|     6|    90|      25|    1|   1.0| 1.0|40.105965|\n",
            "|         Double Chex|  R|   C|     100|      2|  0|   190|  1.0| 18.0|     5|    80|      25|    3|   1.0|0.75|44.330856|\n",
            "+--------------------+---+----+--------+-------+---+------+-----+-----+------+------+--------+-----+------+----+---------+\n",
            "only showing top 20 rows\n",
            "\n"
          ]
        }
      ]
    },
    {
      "cell_type": "markdown",
      "source": [
        "# Case When"
      ],
      "metadata": {
        "id": "M4IgWDgBxpow"
      }
    },
    {
      "cell_type": "code",
      "source": [
        "from pyspark.sql.functions import when"
      ],
      "metadata": {
        "id": "zR4RurmqxY0T"
      },
      "execution_count": 26,
      "outputs": []
    },
    {
      "cell_type": "code",
      "source": [
        "df.select(\"name\", df.vitamins, when(df.vitamins >= \"25\", \"rich in vitamins\")).show(10)"
      ],
      "metadata": {
        "id": "13K3ZorWx4fa",
        "outputId": "1c0d29bf-48c3-4c53-b4af-7e70727cc82d",
        "colab": {
          "base_uri": "https://localhost:8080/"
        }
      },
      "execution_count": 28,
      "outputs": [
        {
          "output_type": "stream",
          "name": "stdout",
          "text": [
            "+--------------------+--------+----------------------------------------------------+\n",
            "|                name|vitamins|CASE WHEN (vitamins >= 25) THEN rich in vitamins END|\n",
            "+--------------------+--------+----------------------------------------------------+\n",
            "|           100% Bran|      25|                                    rich in vitamins|\n",
            "|   100% Natural Bran|       0|                                                NULL|\n",
            "|            All-Bran|      25|                                    rich in vitamins|\n",
            "|All-Bran with Ext...|      25|                                    rich in vitamins|\n",
            "|      Almond Delight|      25|                                    rich in vitamins|\n",
            "|Apple Cinnamon Ch...|      25|                                    rich in vitamins|\n",
            "|         Apple Jacks|      25|                                    rich in vitamins|\n",
            "|             Basic 4|      25|                                    rich in vitamins|\n",
            "|           Bran Chex|      25|                                    rich in vitamins|\n",
            "|         Bran Flakes|      25|                                    rich in vitamins|\n",
            "+--------------------+--------+----------------------------------------------------+\n",
            "only showing top 10 rows\n",
            "\n"
          ]
        }
      ]
    },
    {
      "cell_type": "code",
      "source": [
        "# filter()\n",
        "#df.filter(df.calories == \"100\").show()\n",
        "df.filter(df.calories >= \"100\").show()"
      ],
      "metadata": {
        "id": "JZB-PBQnyHoz",
        "outputId": "06190082-f49e-47f9-b11c-61de60c9aeb6",
        "colab": {
          "base_uri": "https://localhost:8080/"
        }
      },
      "execution_count": 30,
      "outputs": [
        {
          "output_type": "stream",
          "name": "stdout",
          "text": [
            "+--------------------+---+----+--------+-------+---+------+-----+-----+------+------+--------+-----+------+----+---------+\n",
            "|                name|mfr|type|calories|protein|fat|sodium|fiber|carbo|sugars|potass|vitamins|shelf|weight|cups|   rating|\n",
            "+--------------------+---+----+--------+-------+---+------+-----+-----+------+------+--------+-----+------+----+---------+\n",
            "|   100% Natural Bran|  Q|   C|     120|      3|  5|    15|  2.0|  8.0|     8|   135|       0|    3|   1.0| 1.0|33.983679|\n",
            "|      Almond Delight|  R|   C|     110|      2|  2|   200|  1.0| 14.0|     8|    -1|      25|    3|   1.0|0.75|34.384843|\n",
            "|Apple Cinnamon Ch...|  G|   C|     110|      2|  2|   180|  1.5| 10.5|    10|    70|      25|    1|   1.0|0.75|29.509541|\n",
            "|         Apple Jacks|  K|   C|     110|      2|  0|   125|  1.0| 11.0|    14|    30|      25|    2|   1.0| 1.0|33.174094|\n",
            "|             Basic 4|  G|   C|     130|      3|  2|   210|  2.0| 18.0|     8|   100|      25|    3|  1.33|0.75|37.038562|\n",
            "|        Cap'n'Crunch|  Q|   C|     120|      1|  2|   220|  0.0| 12.0|    12|    35|      25|    2|   1.0|0.75|18.042851|\n",
            "|            Cheerios|  G|   C|     110|      6|  2|   290|  2.0| 17.0|     1|   105|      25|    1|   1.0|1.25|50.764999|\n",
            "|Cinnamon Toast Cr...|  G|   C|     120|      1|  3|   210|  0.0| 13.0|     9|    45|      25|    2|   1.0|0.75|19.823573|\n",
            "|            Clusters|  G|   C|     110|      3|  2|   140|  2.0| 13.0|     7|   105|      25|    3|   1.0| 0.5|40.400208|\n",
            "|         Cocoa Puffs|  G|   C|     110|      1|  1|   180|  0.0| 12.0|    13|    55|      25|    2|   1.0| 1.0|22.736446|\n",
            "|           Corn Chex|  R|   C|     110|      2|  0|   280|  0.0| 22.0|     3|    25|      25|    1|   1.0| 1.0|41.445019|\n",
            "|         Corn Flakes|  K|   C|     100|      2|  0|   290|  1.0| 21.0|     2|    35|      25|    1|   1.0| 1.0|45.863324|\n",
            "|           Corn Pops|  K|   C|     110|      1|  0|    90|  1.0| 13.0|    12|    20|      25|    2|   1.0| 1.0|35.782791|\n",
            "|       Count Chocula|  G|   C|     110|      1|  1|   180|  0.0| 12.0|    13|    65|      25|    2|   1.0| 1.0|22.396513|\n",
            "|  Cracklin' Oat Bran|  K|   C|     110|      3|  3|   140|  4.0| 10.0|     7|   160|      25|    3|   1.0| 0.5|40.448772|\n",
            "|Cream of Wheat (Q...|  N|   H|     100|      3|  0|    80|  1.0| 21.0|     0|    -1|       0|    2|   1.0| 1.0|64.533816|\n",
            "|             Crispix|  K|   C|     110|      2|  0|   220|  1.0| 21.0|     3|    30|      25|    3|   1.0| 1.0|46.895644|\n",
            "|Crispy Wheat & Ra...|  G|   C|     100|      2|  1|   140|  2.0| 11.0|    10|   120|      25|    3|   1.0|0.75|36.176196|\n",
            "|         Double Chex|  R|   C|     100|      2|  0|   190|  1.0| 18.0|     5|    80|      25|    3|   1.0|0.75|44.330856|\n",
            "|         Froot Loops|  K|   C|     110|      2|  1|   125|  1.0| 11.0|    13|    30|      25|    2|   1.0| 1.0|32.207582|\n",
            "+--------------------+---+----+--------+-------+---+------+-----+-----+------+------+--------+-----+------+----+---------+\n",
            "only showing top 20 rows\n",
            "\n"
          ]
        }
      ]
    },
    {
      "cell_type": "code",
      "source": [
        "# isnull() / isnotnull()\n",
        "from pyspark.sql.functions import *"
      ],
      "metadata": {
        "id": "VP5kULuryfty"
      },
      "execution_count": 31,
      "outputs": []
    },
    {
      "cell_type": "code",
      "source": [
        "# Trazer dados não nulos\n",
        "df.filter(df.name.isNotNull()).show()"
      ],
      "metadata": {
        "id": "xkpAB6cgyyJh",
        "outputId": "31784fe0-bf01-46bc-b4b2-97e3d776386a",
        "colab": {
          "base_uri": "https://localhost:8080/"
        }
      },
      "execution_count": 34,
      "outputs": [
        {
          "output_type": "stream",
          "name": "stdout",
          "text": [
            "+--------------------+---+----+--------+-------+---+------+-----+-----+------+------+--------+-----+------+----+---------+\n",
            "|                name|mfr|type|calories|protein|fat|sodium|fiber|carbo|sugars|potass|vitamins|shelf|weight|cups|   rating|\n",
            "+--------------------+---+----+--------+-------+---+------+-----+-----+------+------+--------+-----+------+----+---------+\n",
            "|           100% Bran|  N|   C|      70|      4|  1|   130| 10.0|  5.0|     6|   280|      25|    3|   1.0|0.33|68.402973|\n",
            "|   100% Natural Bran|  Q|   C|     120|      3|  5|    15|  2.0|  8.0|     8|   135|       0|    3|   1.0| 1.0|33.983679|\n",
            "|            All-Bran|  K|   C|      70|      4|  1|   260|  9.0|  7.0|     5|   320|      25|    3|   1.0|0.33|59.425505|\n",
            "|All-Bran with Ext...|  K|   C|      50|      4|  0|   140| 14.0|  8.0|     0|   330|      25|    3|   1.0| 0.5|93.704912|\n",
            "|      Almond Delight|  R|   C|     110|      2|  2|   200|  1.0| 14.0|     8|    -1|      25|    3|   1.0|0.75|34.384843|\n",
            "|Apple Cinnamon Ch...|  G|   C|     110|      2|  2|   180|  1.5| 10.5|    10|    70|      25|    1|   1.0|0.75|29.509541|\n",
            "|         Apple Jacks|  K|   C|     110|      2|  0|   125|  1.0| 11.0|    14|    30|      25|    2|   1.0| 1.0|33.174094|\n",
            "|             Basic 4|  G|   C|     130|      3|  2|   210|  2.0| 18.0|     8|   100|      25|    3|  1.33|0.75|37.038562|\n",
            "|           Bran Chex|  R|   C|      90|      2|  1|   200|  4.0| 15.0|     6|   125|      25|    1|   1.0|0.67|49.120253|\n",
            "|         Bran Flakes|  P|   C|      90|      3|  0|   210|  5.0| 13.0|     5|   190|      25|    3|   1.0|0.67|53.313813|\n",
            "|        Cap'n'Crunch|  Q|   C|     120|      1|  2|   220|  0.0| 12.0|    12|    35|      25|    2|   1.0|0.75|18.042851|\n",
            "|            Cheerios|  G|   C|     110|      6|  2|   290|  2.0| 17.0|     1|   105|      25|    1|   1.0|1.25|50.764999|\n",
            "|Cinnamon Toast Cr...|  G|   C|     120|      1|  3|   210|  0.0| 13.0|     9|    45|      25|    2|   1.0|0.75|19.823573|\n",
            "|            Clusters|  G|   C|     110|      3|  2|   140|  2.0| 13.0|     7|   105|      25|    3|   1.0| 0.5|40.400208|\n",
            "|         Cocoa Puffs|  G|   C|     110|      1|  1|   180|  0.0| 12.0|    13|    55|      25|    2|   1.0| 1.0|22.736446|\n",
            "|           Corn Chex|  R|   C|     110|      2|  0|   280|  0.0| 22.0|     3|    25|      25|    1|   1.0| 1.0|41.445019|\n",
            "|         Corn Flakes|  K|   C|     100|      2|  0|   290|  1.0| 21.0|     2|    35|      25|    1|   1.0| 1.0|45.863324|\n",
            "|           Corn Pops|  K|   C|     110|      1|  0|    90|  1.0| 13.0|    12|    20|      25|    2|   1.0| 1.0|35.782791|\n",
            "|       Count Chocula|  G|   C|     110|      1|  1|   180|  0.0| 12.0|    13|    65|      25|    2|   1.0| 1.0|22.396513|\n",
            "|  Cracklin' Oat Bran|  K|   C|     110|      3|  3|   140|  4.0| 10.0|     7|   160|      25|    3|   1.0| 0.5|40.448772|\n",
            "+--------------------+---+----+--------+-------+---+------+-----+-----+------+------+--------+-----+------+----+---------+\n",
            "only showing top 20 rows\n",
            "\n"
          ]
        }
      ]
    },
    {
      "cell_type": "code",
      "source": [
        "# Trazer dados nulos\n",
        "df.filter(df.name.isNull()).show()"
      ],
      "metadata": {
        "id": "9riqjj7zy833",
        "outputId": "c1684af8-d589-44ed-dd3d-88ec4875cd11",
        "colab": {
          "base_uri": "https://localhost:8080/"
        }
      },
      "execution_count": 35,
      "outputs": [
        {
          "output_type": "stream",
          "name": "stdout",
          "text": [
            "+----+---+----+--------+-------+---+------+-----+-----+------+------+--------+-----+------+----+------+\n",
            "|name|mfr|type|calories|protein|fat|sodium|fiber|carbo|sugars|potass|vitamins|shelf|weight|cups|rating|\n",
            "+----+---+----+--------+-------+---+------+-----+-----+------+------+--------+-----+------+----+------+\n",
            "+----+---+----+--------+-------+---+------+-----+-----+------+------+--------+-----+------+----+------+\n",
            "\n"
          ]
        }
      ]
    },
    {
      "cell_type": "code",
      "source": [],
      "metadata": {
        "id": "d_UQ0fDCzJF8"
      },
      "execution_count": null,
      "outputs": []
    }
  ]
}