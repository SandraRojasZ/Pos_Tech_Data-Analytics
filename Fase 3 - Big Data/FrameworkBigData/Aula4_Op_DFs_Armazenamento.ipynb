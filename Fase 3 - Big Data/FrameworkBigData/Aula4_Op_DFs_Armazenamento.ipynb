{
  "nbformat": 4,
  "nbformat_minor": 0,
  "metadata": {
    "colab": {
      "provenance": [],
      "authorship_tag": "ABX9TyPrkZU8tPhI0iQaNcxxPADv"
    },
    "kernelspec": {
      "name": "python3",
      "display_name": "Python 3"
    },
    "language_info": {
      "name": "python"
    }
  },
  "cells": [
    {
      "cell_type": "markdown",
      "source": [
        "# Aula 4 - Operações entre Dataframes e Armazenamento"
      ],
      "metadata": {
        "id": "-JwsrJXHF6Gv"
      }
    },
    {
      "cell_type": "code",
      "execution_count": 1,
      "metadata": {
        "id": "k2lGgUNxEfGd",
        "outputId": "e9e471dd-7d9f-418d-92e9-e33d522e501d",
        "colab": {
          "base_uri": "https://localhost:8080/"
        }
      },
      "outputs": [
        {
          "output_type": "stream",
          "name": "stdout",
          "text": [
            "Requirement already satisfied: pyspark in /usr/local/lib/python3.11/dist-packages (3.5.4)\n",
            "Requirement already satisfied: py4j==0.10.9.7 in /usr/local/lib/python3.11/dist-packages (from pyspark) (0.10.9.7)\n"
          ]
        }
      ],
      "source": [
        "!pip install pyspark"
      ]
    },
    {
      "cell_type": "code",
      "source": [
        "from pyspark import SparkContext\n",
        "from pyspark.sql import SparkSession"
      ],
      "metadata": {
        "id": "5PiEyXVfp5y2"
      },
      "execution_count": 2,
      "outputs": []
    },
    {
      "cell_type": "code",
      "source": [
        "sc = SparkContext.getOrCreate()"
      ],
      "metadata": {
        "id": "kHcbXLfIqCJs"
      },
      "execution_count": 3,
      "outputs": []
    },
    {
      "cell_type": "code",
      "source": [
        "spark = SparkSession.builder.appName('PySpark Dataframe').getOrCreate"
      ],
      "metadata": {
        "id": "7eqyf-PdqGN5"
      },
      "execution_count": 4,
      "outputs": []
    },
    {
      "cell_type": "code",
      "source": [
        "# Transformations\n",
        "# Transformação de dados dentro do Spark\n",
        "\n",
        "# MAP ()\n",
        "\n",
        "data = [1, 2, 3, 4, 5]\n",
        "myRDD = sc.parallelize(data)\n",
        "# mapeando os dados na condição x* 2\n",
        "newRDD = myRDD.map(lambda x: x*2)\n",
        "print(newRDD.collect())"
      ],
      "metadata": {
        "id": "gSWAA6meqTd0",
        "outputId": "be33c574-2d35-4815-b150-ead9c321376d",
        "colab": {
          "base_uri": "https://localhost:8080/"
        }
      },
      "execution_count": 5,
      "outputs": [
        {
          "output_type": "stream",
          "name": "stdout",
          "text": [
            "[2, 4, 6, 8, 10]\n"
          ]
        }
      ]
    },
    {
      "cell_type": "code",
      "source": [
        "# filter()\n",
        "data = [1, 2, 3, 4, 5, 6, 7, 8, 9, 10]\n",
        "myRDD = sc.parallelize(data)\n",
        "newRDD = myRDD.filter(lambda x: x%2 == 0)\n",
        "print(newRDD.collect())"
      ],
      "metadata": {
        "id": "AFAbJg4xqw3G",
        "outputId": "8642f428-9758-4933-a979-5516b0b2bea4",
        "colab": {
          "base_uri": "https://localhost:8080/"
        }
      },
      "execution_count": 8,
      "outputs": [
        {
          "output_type": "stream",
          "name": "stdout",
          "text": [
            "[2, 4, 6, 8, 10]\n"
          ]
        }
      ]
    },
    {
      "cell_type": "code",
      "source": [
        "# DISTINCT()\n",
        "data = [1, 1, 1, 2, 2, 2, 3, 3, 3, 3]\n",
        "myRDD = sc.parallelize(data)\n",
        "newRDD = myRDD.distinct()\n",
        "print(newRDD.collect())"
      ],
      "metadata": {
        "id": "CMypgCoHrZ08",
        "outputId": "81bede1d-b65d-49d0-8303-1c68a4e8eb04",
        "colab": {
          "base_uri": "https://localhost:8080/"
        }
      },
      "execution_count": 10,
      "outputs": [
        {
          "output_type": "stream",
          "name": "stdout",
          "text": [
            "[2, 1, 3]\n"
          ]
        }
      ]
    },
    {
      "cell_type": "code",
      "source": [
        "# DISTINCT()\n",
        "# COUNT()\n",
        "data = [1, 1, 1, 2, 2, 2, 3, 3, 3, 3]\n",
        "myRDD = sc.parallelize(data)\n",
        "newRDD = myRDD.distinct()\n",
        "print(newRDD.count())"
      ],
      "metadata": {
        "id": "0xHxScJnsAjx",
        "outputId": "f29b44f3-c837-4a8e-86e3-5395b6134287",
        "colab": {
          "base_uri": "https://localhost:8080/"
        }
      },
      "execution_count": 13,
      "outputs": [
        {
          "output_type": "stream",
          "name": "stdout",
          "text": [
            "3\n"
          ]
        }
      ]
    },
    {
      "cell_type": "code",
      "source": [
        "# newRDD\n",
        "data = [1, 1, 1, 2, 2, 2, 3, 3, 3, 3]\n",
        "myRDD = sc.parallelize(data)\n",
        "newRDD = myRDD.distinct()\n",
        "print(newRDD)"
      ],
      "metadata": {
        "id": "QptdXzJCsQO9",
        "outputId": "c18a2427-5231-4f8c-d398-e18658406119",
        "colab": {
          "base_uri": "https://localhost:8080/"
        }
      },
      "execution_count": 15,
      "outputs": [
        {
          "output_type": "stream",
          "name": "stdout",
          "text": [
            "PythonRDD[43] at RDD at PythonRDD.scala:53\n"
          ]
        }
      ]
    },
    {
      "cell_type": "code",
      "source": [
        "# TYPE\n",
        "data = [1, 1, 1, 2, 2, 2, 3, 3, 3, 3]\n",
        "myRDD = sc.parallelize(data)\n",
        "newRDD = myRDD.distinct()\n",
        "print(type(newRDD))"
      ],
      "metadata": {
        "id": "vIiv26iQshUI",
        "outputId": "5a2e45ef-5f38-4d22-8333-1561e9e58543",
        "colab": {
          "base_uri": "https://localhost:8080/"
        }
      },
      "execution_count": 16,
      "outputs": [
        {
          "output_type": "stream",
          "name": "stdout",
          "text": [
            "<class 'pyspark.rdd.PipelinedRDD'>\n"
          ]
        }
      ]
    },
    {
      "cell_type": "code",
      "source": [
        "# groupBYKey\n"
      ],
      "metadata": {
        "id": "s7cu1eVbsrYa"
      },
      "execution_count": null,
      "outputs": []
    }
  ]
}