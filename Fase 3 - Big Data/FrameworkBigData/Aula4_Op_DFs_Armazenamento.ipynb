{
  "nbformat": 4,
  "nbformat_minor": 0,
  "metadata": {
    "colab": {
      "provenance": [],
      "authorship_tag": "ABX9TyM42rLEs1shZblZ91NaHqYO"
    },
    "kernelspec": {
      "name": "python3",
      "display_name": "Python 3"
    },
    "language_info": {
      "name": "python"
    }
  },
  "cells": [
    {
      "cell_type": "markdown",
      "source": [
        "# Aula 4 - Operações entre Dataframes e Armazenamento"
      ],
      "metadata": {
        "id": "-JwsrJXHF6Gv"
      }
    },
    {
      "cell_type": "code",
      "execution_count": 3,
      "metadata": {
        "id": "k2lGgUNxEfGd",
        "colab": {
          "base_uri": "https://localhost:8080/"
        },
        "outputId": "d0510adc-6d5f-4ef8-f561-a086ff1674b1"
      },
      "outputs": [
        {
          "output_type": "stream",
          "name": "stdout",
          "text": [
            "Requirement already satisfied: pyspark in /usr/local/lib/python3.11/dist-packages (3.5.4)\n",
            "Requirement already satisfied: py4j==0.10.9.7 in /usr/local/lib/python3.11/dist-packages (from pyspark) (0.10.9.7)\n"
          ]
        }
      ],
      "source": [
        "!pip install pyspark"
      ]
    },
    {
      "cell_type": "code",
      "source": [
        "from pyspark import SparkContext\n",
        "from pyspark.sql import SparkSession"
      ],
      "metadata": {
        "id": "5PiEyXVfp5y2"
      },
      "execution_count": 4,
      "outputs": []
    },
    {
      "cell_type": "code",
      "source": [
        "sc = SparkContext.getOrCreate()"
      ],
      "metadata": {
        "id": "kHcbXLfIqCJs"
      },
      "execution_count": 5,
      "outputs": []
    },
    {
      "cell_type": "code",
      "source": [
        "spark = SparkSession.builder.appName('PySpark Dataframe').getOrCreate"
      ],
      "metadata": {
        "id": "7eqyf-PdqGN5"
      },
      "execution_count": 6,
      "outputs": []
    },
    {
      "cell_type": "code",
      "source": [
        "# Transformations\n",
        "# Transformação de dados dentro do Spark\n",
        "\n",
        "# MAP ()\n",
        "\n",
        "data = [1, 2, 3, 4, 5]\n",
        "myRDD = sc.parallelize(data)\n",
        "# mapeando os dados na condição x* 2\n",
        "newRDD = myRDD.map(lambda x: x*2)\n",
        "print(newRDD.collect())"
      ],
      "metadata": {
        "colab": {
          "base_uri": "https://localhost:8080/"
        },
        "id": "gSWAA6meqTd0",
        "outputId": "48d09537-4c89-4846-bff2-83a9f57301cb"
      },
      "execution_count": 7,
      "outputs": [
        {
          "output_type": "stream",
          "name": "stdout",
          "text": [
            "[2, 4, 6, 8, 10]\n"
          ]
        }
      ]
    },
    {
      "cell_type": "code",
      "source": [
        "# filter()\n",
        "data = [1, 2, 3, 4, 5, 6, 7, 8, 9, 10]\n",
        "myRDD = sc.parallelize(data)\n",
        "newRDD = myRDD.filter(lambda x: x%2 == 0)\n",
        "print(newRDD.collect())"
      ],
      "metadata": {
        "colab": {
          "base_uri": "https://localhost:8080/"
        },
        "id": "AFAbJg4xqw3G",
        "outputId": "fe04ccda-9e5e-4fa7-e0a4-814153227c46"
      },
      "execution_count": 8,
      "outputs": [
        {
          "output_type": "stream",
          "name": "stdout",
          "text": [
            "[2, 4, 6, 8, 10]\n"
          ]
        }
      ]
    },
    {
      "cell_type": "code",
      "source": [
        "# DISTINCT()\n",
        "data = [1, 1, 1, 2, 2, 2, 3, 3, 3, 3]\n",
        "myRDD = sc.parallelize(data)\n",
        "newRDD = myRDD.distinct()\n",
        "print(newRDD.collect())"
      ],
      "metadata": {
        "colab": {
          "base_uri": "https://localhost:8080/"
        },
        "id": "CMypgCoHrZ08",
        "outputId": "7b0bd13d-5c12-41c5-c01c-e0e90f68168d"
      },
      "execution_count": 9,
      "outputs": [
        {
          "output_type": "stream",
          "name": "stdout",
          "text": [
            "[2, 1, 3]\n"
          ]
        }
      ]
    },
    {
      "cell_type": "code",
      "source": [
        "# DISTINCT()\n",
        "# COUNT()\n",
        "data = [1, 1, 1, 2, 2, 2, 3, 3, 3, 3]\n",
        "myRDD = sc.parallelize(data)\n",
        "newRDD = myRDD.distinct()\n",
        "print(newRDD.count())"
      ],
      "metadata": {
        "colab": {
          "base_uri": "https://localhost:8080/"
        },
        "id": "0xHxScJnsAjx",
        "outputId": "6cb71248-ab53-46ae-876f-726b9c84641e"
      },
      "execution_count": 10,
      "outputs": [
        {
          "output_type": "stream",
          "name": "stdout",
          "text": [
            "3\n"
          ]
        }
      ]
    },
    {
      "cell_type": "code",
      "source": [
        "# newRDD\n",
        "data = [1, 1, 1, 2, 2, 2, 3, 3, 3, 3]\n",
        "myRDD = sc.parallelize(data)\n",
        "newRDD = myRDD.distinct()\n",
        "print(newRDD)"
      ],
      "metadata": {
        "colab": {
          "base_uri": "https://localhost:8080/"
        },
        "id": "QptdXzJCsQO9",
        "outputId": "539a812d-b5a2-4323-df77-ff6e877144f5"
      },
      "execution_count": 11,
      "outputs": [
        {
          "output_type": "stream",
          "name": "stdout",
          "text": [
            "PythonRDD[21] at RDD at PythonRDD.scala:53\n"
          ]
        }
      ]
    },
    {
      "cell_type": "code",
      "source": [
        "# TYPE\n",
        "data = [1, 1, 1, 2, 2, 2, 3, 3, 3, 3]\n",
        "myRDD = sc.parallelize(data)\n",
        "newRDD = myRDD.distinct()\n",
        "print(type(newRDD))"
      ],
      "metadata": {
        "colab": {
          "base_uri": "https://localhost:8080/"
        },
        "id": "vIiv26iQshUI",
        "outputId": "0605cec7-095f-437a-cc58-74179326ae01"
      },
      "execution_count": 12,
      "outputs": [
        {
          "output_type": "stream",
          "name": "stdout",
          "text": [
            "<class 'pyspark.rdd.PipelinedRDD'>\n"
          ]
        }
      ]
    },
    {
      "cell_type": "code",
      "source": [
        "# groupBYKey()\n",
        "myRDD = sc.parallelize([('a', 1), ('a', 2), ('a', 3), ('b', 1)])\n",
        "resultList = myRDD.groupByKey().mapValues(list)\n",
        "resultList.collect()"
      ],
      "metadata": {
        "id": "s7cu1eVbsrYa",
        "colab": {
          "base_uri": "https://localhost:8080/"
        },
        "outputId": "24f6efe8-ca41-4f7a-bbe3-523e363a3fea"
      },
      "execution_count": 13,
      "outputs": [
        {
          "output_type": "execute_result",
          "data": {
            "text/plain": [
              "[('b', [1]), ('a', [1, 2, 3])]"
            ]
          },
          "metadata": {},
          "execution_count": 13
        }
      ]
    },
    {
      "cell_type": "code",
      "source": [
        "# reduceByKey()\n",
        "from operator import add\n",
        "myRDD = sc.parallelize([('a', 1), ('a', 2), ('a', 3), ('b', 1)])\n",
        "# adds the values by keys\n",
        "newRDD = myRDD.reduceByKey(add)\n",
        "newRDD.collect()"
      ],
      "metadata": {
        "colab": {
          "base_uri": "https://localhost:8080/"
        },
        "id": "GiUjRgCwRrQt",
        "outputId": "697252e0-2487-4042-97ba-5cd8aa876611"
      },
      "execution_count": 14,
      "outputs": [
        {
          "output_type": "execute_result",
          "data": {
            "text/plain": [
              "[('b', 1), ('a', 6)]"
            ]
          },
          "metadata": {},
          "execution_count": 14
        }
      ]
    },
    {
      "cell_type": "code",
      "source": [
        "# SortByKey()\n",
        "myRDD = sc.parallelize([('c', 1), ('d', 2), ('a', 3), ('b', 4)])\n",
        "# sort by key\n",
        "newRDD = myRDD.sortByKey()\n",
        "newRDD.collect()"
      ],
      "metadata": {
        "colab": {
          "base_uri": "https://localhost:8080/"
        },
        "id": "z-_HDjPfSZ6Y",
        "outputId": "0bb0cdbc-2405-424b-cad1-eced12d4c012"
      },
      "execution_count": 15,
      "outputs": [
        {
          "output_type": "execute_result",
          "data": {
            "text/plain": [
              "[('a', 3), ('b', 4), ('c', 1), ('d', 2)]"
            ]
          },
          "metadata": {},
          "execution_count": 15
        }
      ]
    },
    {
      "cell_type": "code",
      "source": [
        "# UNION()\n",
        "myRDD1 = sc.parallelize([1, 2, 3, 4])\n",
        "myRDD2 = sc.parallelize([3, 4, 5, 6, 7])\n",
        "# union of myRDD1 and myRDD2\n",
        "newRDD = myRDD1.union(myRDD2)\n",
        "newRDD.collect()"
      ],
      "metadata": {
        "colab": {
          "base_uri": "https://localhost:8080/"
        },
        "id": "j6XxC53UTW5T",
        "outputId": "9766353e-9dac-477d-af4f-ead5b90a2674"
      },
      "execution_count": 17,
      "outputs": [
        {
          "output_type": "execute_result",
          "data": {
            "text/plain": [
              "[1, 2, 3, 4, 3, 4, 5, 6, 7]"
            ]
          },
          "metadata": {},
          "execution_count": 17
        }
      ]
    },
    {
      "cell_type": "markdown",
      "source": [
        "# Actions"
      ],
      "metadata": {
        "id": "RyNFwzCAb01d"
      }
    },
    {
      "cell_type": "code",
      "source": [
        "# count()\n",
        "data = ['Scala', 'Python', 'Java', 'R']\n",
        "myRDD = sc.parallelize(data)\n",
        "# Returns 4 as output\n",
        "myRDD.count()"
      ],
      "metadata": {
        "colab": {
          "base_uri": "https://localhost:8080/"
        },
        "id": "CMS9_xj-T77I",
        "outputId": "26f2e9b8-bcc3-479a-b616-cf0f198be6d5"
      },
      "execution_count": 19,
      "outputs": [
        {
          "output_type": "execute_result",
          "data": {
            "text/plain": [
              "4"
            ]
          },
          "metadata": {},
          "execution_count": 19
        }
      ]
    },
    {
      "cell_type": "code",
      "source": [
        "data = [1, 1, 1, 4,  5, 6, 7, 8, 9, 10]\n",
        "myRDD = sc.parallelize(data)\n",
        "myRDD.count()"
      ],
      "metadata": {
        "id": "L4eYfto-bxDK",
        "outputId": "ba285b9c-40d4-493b-d0db-385f858fda0e",
        "colab": {
          "base_uri": "https://localhost:8080/"
        }
      },
      "execution_count": 20,
      "outputs": [
        {
          "output_type": "execute_result",
          "data": {
            "text/plain": [
              "10"
            ]
          },
          "metadata": {},
          "execution_count": 20
        }
      ]
    },
    {
      "cell_type": "code",
      "source": [
        "# reduce()\n",
        "data = [1, 2, 3, 4, 5]\n",
        "myRDD = sc.parallelize(data)\n",
        "myRDD.reduce(lambda x, y: x * y)\n"
      ],
      "metadata": {
        "id": "2azLbyORcf_J",
        "outputId": "b133d1be-dbdd-4185-b237-6eb21b55c399",
        "colab": {
          "base_uri": "https://localhost:8080/"
        }
      },
      "execution_count": 21,
      "outputs": [
        {
          "output_type": "execute_result",
          "data": {
            "text/plain": [
              "120"
            ]
          },
          "metadata": {},
          "execution_count": 21
        }
      ]
    },
    {
      "cell_type": "code",
      "source": [
        "# foreach()\n",
        "def fun(x):\n",
        "  print(x)\n",
        "data = ['Scala', 'Python', 'Java', 'R']\n",
        "myRDD = sc.parallelize(data)\n",
        "myRDD.foreach(fun)"
      ],
      "metadata": {
        "id": "ejsY-mjWc03a"
      },
      "execution_count": 23,
      "outputs": []
    },
    {
      "cell_type": "code",
      "source": [
        "# countByValue()\n",
        "# Conta a quantidade de termos\n",
        "data = ['Python', 'Scala', 'Python', 'R', 'Python', 'Java', 'R']\n",
        "myRDD = sc.parallelize(data)\n",
        "myRDD.countByValue().items()"
      ],
      "metadata": {
        "id": "ca8gPQpAdGhd",
        "outputId": "5d011c59-c002-48bb-c8dd-071fa7ac66ab",
        "colab": {
          "base_uri": "https://localhost:8080/"
        }
      },
      "execution_count": 24,
      "outputs": [
        {
          "output_type": "execute_result",
          "data": {
            "text/plain": [
              "dict_items([('Python', 3), ('Scala', 1), ('R', 2), ('Java', 1)])"
            ]
          },
          "metadata": {},
          "execution_count": 24
        }
      ]
    },
    {
      "cell_type": "code",
      "source": [
        "# countByKey\n",
        "# Contando pela chave\n",
        "data = [('a', 1), ('b', 1), ('c', 1), ('a', 1)]\n",
        "myRDD = sc.parallelize(data)\n",
        "myRDD.countByKey().items()"
      ],
      "metadata": {
        "id": "29dfBkJldujm",
        "outputId": "33284f7d-f5c7-4392-b0d5-017c89276f35",
        "colab": {
          "base_uri": "https://localhost:8080/"
        }
      },
      "execution_count": 25,
      "outputs": [
        {
          "output_type": "execute_result",
          "data": {
            "text/plain": [
              "dict_items([('a', 2), ('b', 1), ('c', 1)])"
            ]
          },
          "metadata": {},
          "execution_count": 25
        }
      ]
    },
    {
      "cell_type": "code",
      "source": [
        "# take(n)\n",
        "# pega os 3 primeiros elementos\n",
        "data = [2, 5, 3, 8, 4]\n",
        "myRDD = sc.parallelize(data)\n",
        "myRDD.take(3)"
      ],
      "metadata": {
        "id": "tvXuqoFBhJXT",
        "outputId": "32aa5944-95db-412f-d676-2b2dd2e4b126",
        "colab": {
          "base_uri": "https://localhost:8080/"
        }
      },
      "execution_count": 26,
      "outputs": [
        {
          "output_type": "execute_result",
          "data": {
            "text/plain": [
              "[2, 5, 3]"
            ]
          },
          "metadata": {},
          "execution_count": 26
        }
      ]
    },
    {
      "cell_type": "code",
      "source": [
        "# top\n",
        "data = [2, 5, 3, 8, 4]\n",
        "myRDD = sc.parallelize(data)\n",
        "myRDD.top(3)"
      ],
      "metadata": {
        "id": "YML8xAByheJU",
        "outputId": "37bf25cf-b96f-47e2-e252-e4bfa5fde51f",
        "colab": {
          "base_uri": "https://localhost:8080/"
        }
      },
      "execution_count": 27,
      "outputs": [
        {
          "output_type": "execute_result",
          "data": {
            "text/plain": [
              "[8, 5, 4]"
            ]
          },
          "metadata": {},
          "execution_count": 27
        }
      ]
    },
    {
      "cell_type": "code",
      "source": [],
      "metadata": {
        "id": "KRu_RcnKhoLC"
      },
      "execution_count": null,
      "outputs": []
    }
  ]
}