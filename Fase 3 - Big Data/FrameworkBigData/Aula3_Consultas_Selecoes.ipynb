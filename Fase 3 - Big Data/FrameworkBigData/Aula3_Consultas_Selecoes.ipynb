{
  "nbformat": 4,
  "nbformat_minor": 0,
  "metadata": {
    "colab": {
      "provenance": [],
      "authorship_tag": "ABX9TyNCr/GWROJSlFkQO5s4795D"
    },
    "kernelspec": {
      "name": "python3",
      "display_name": "Python 3"
    },
    "language_info": {
      "name": "python"
    }
  },
  "cells": [
    {
      "cell_type": "markdown",
      "source": [
        "# Aula 3 - Consultas e Seleções"
      ],
      "metadata": {
        "id": "-JwsrJXHF6Gv"
      }
    },
    {
      "cell_type": "code",
      "execution_count": 16,
      "metadata": {
        "id": "k2lGgUNxEfGd"
      },
      "outputs": [],
      "source": [
        "import pyspark\n",
        "from pyspark.sql import SparkSession\n",
        "spark = SparkSession.builder.master(\"local[*]\").getOrCreate()"
      ]
    },
    {
      "cell_type": "code",
      "source": [
        "# Spark SQl Consultas e Seleções\n",
        "df = spark.sql('''select 'OK' as Status''')\n",
        "df.show()"
      ],
      "metadata": {
        "id": "YCfNjH7UdhtH",
        "outputId": "88f0423c-637a-4b58-9765-858f56d361ca",
        "colab": {
          "base_uri": "https://localhost:8080/"
        }
      },
      "execution_count": 17,
      "outputs": [
        {
          "output_type": "stream",
          "name": "stdout",
          "text": [
            "+------+\n",
            "|Status|\n",
            "+------+\n",
            "|    OK|\n",
            "+------+\n",
            "\n"
          ]
        }
      ]
    },
    {
      "cell_type": "code",
      "source": [
        "# Importing Data\n",
        "# df = spark.read.csv('ceral.csv', sep = ',', interShema = True, header = True)\n",
        "import requests\n",
        "import pandas as pd\n",
        "import io\n",
        "\n",
        "url = \"https://raw.githubusercontent.com/SandraRojasZ/Pos_Tech_Data_Analytics/main/Base_de_Dados/cereal.csv\"\n",
        "#df = spark.read.csv('cereal.csv', sep = ',', inferSchema = True, header = True)\n",
        "response = requests.get(url)\n",
        "response.raise_for_status()  # Raise an exception for bad status codes\n",
        "\n",
        "# Convert the data to a Pandas DataFrame\n",
        "data = response.text\n",
        "df_pandas = pd.read_csv(io.StringIO(data))"
      ],
      "metadata": {
        "id": "_9bP2C9reBLk"
      },
      "execution_count": 18,
      "outputs": []
    },
    {
      "cell_type": "code",
      "source": [
        "df = spark.createDataFrame(df_pandas)\n",
        "\n",
        "print('df.count :', df.count())\n",
        "print('df.col ct :', len(df.columns))\n",
        "print('df.columns:', df.columns)"
      ],
      "metadata": {
        "id": "2V4PaAvkeyDW",
        "outputId": "d04f1159-2bf7-4a14-977c-4fe2fd596b38",
        "colab": {
          "base_uri": "https://localhost:8080/"
        }
      },
      "execution_count": 19,
      "outputs": [
        {
          "output_type": "stream",
          "name": "stdout",
          "text": [
            "df.count : 77\n",
            "df.col ct : 16\n",
            "df.columns: ['name', 'mfr', 'type', 'calories', 'protein', 'fat', 'sodium', 'fiber', 'carbo', 'sugars', 'potass', 'vitamins', 'shelf', 'weight', 'cups', 'rating']\n"
          ]
        }
      ]
    },
    {
      "cell_type": "code",
      "source": [
        "df.show(3)"
      ],
      "metadata": {
        "id": "6sWtczCAe3mV",
        "outputId": "0f890c7d-03ed-4554-f5d2-6b09e91dadd7",
        "colab": {
          "base_uri": "https://localhost:8080/"
        }
      },
      "execution_count": 20,
      "outputs": [
        {
          "output_type": "stream",
          "name": "stdout",
          "text": [
            "+-----------------+---+----+--------+-------+---+------+-----+-----+------+------+--------+-----+------+----+---------+\n",
            "|             name|mfr|type|calories|protein|fat|sodium|fiber|carbo|sugars|potass|vitamins|shelf|weight|cups|   rating|\n",
            "+-----------------+---+----+--------+-------+---+------+-----+-----+------+------+--------+-----+------+----+---------+\n",
            "|        100% Bran|  N|   C|      70|      4|  1|   130| 10.0|  5.0|     6|   280|      25|    3|   1.0|0.33|68.402973|\n",
            "|100% Natural Bran|  Q|   C|     120|      3|  5|    15|  2.0|  8.0|     8|   135|       0|    3|   1.0| 1.0|33.983679|\n",
            "|         All-Bran|  K|   C|      70|      4|  1|   260|  9.0|  7.0|     5|   320|      25|    3|   1.0|0.33|59.425505|\n",
            "+-----------------+---+----+--------+-------+---+------+-----+-----+------+------+--------+-----+------+----+---------+\n",
            "only showing top 3 rows\n",
            "\n"
          ]
        }
      ]
    },
    {
      "cell_type": "code",
      "source": [
        "# Manipulation Data with  Spark SQL\n",
        "# Criado uma tabela temporária a partir do df\n",
        "df.createOrReplaceTempView(\"cereal\")"
      ],
      "metadata": {
        "id": "Cu5KbHvFfGB1"
      },
      "execution_count": 21,
      "outputs": []
    },
    {
      "cell_type": "code",
      "source": [
        "cereal = spark.sql('''SELECT COUNT(*) AS total FROM cereal WHERE mfr = 'G' ''')\n",
        "cereal.show(3)\n",
        "# cereal.count()"
      ],
      "metadata": {
        "id": "BtUHLVkWfQq_",
        "outputId": "d293517e-1c9c-49ec-8ad9-6dda70a8da38",
        "colab": {
          "base_uri": "https://localhost:8080/"
        }
      },
      "execution_count": 27,
      "outputs": [
        {
          "output_type": "stream",
          "name": "stdout",
          "text": [
            "+-----+\n",
            "|total|\n",
            "+-----+\n",
            "|   22|\n",
            "+-----+\n",
            "\n"
          ]
        }
      ]
    },
    {
      "cell_type": "code",
      "source": [
        "df.where(df['mfr'] == 'G').show(3)\n",
        "df.where(df['mfr'] == 'G').count()"
      ],
      "metadata": {
        "id": "onoEGi23ffGn",
        "outputId": "3dac6317-5728-4669-8ef1-b1883148ef61",
        "colab": {
          "base_uri": "https://localhost:8080/"
        }
      },
      "execution_count": 28,
      "outputs": [
        {
          "output_type": "stream",
          "name": "stdout",
          "text": [
            "+--------------------+---+----+--------+-------+---+------+-----+-----+------+------+--------+-----+------+----+---------+\n",
            "|                name|mfr|type|calories|protein|fat|sodium|fiber|carbo|sugars|potass|vitamins|shelf|weight|cups|   rating|\n",
            "+--------------------+---+----+--------+-------+---+------+-----+-----+------+------+--------+-----+------+----+---------+\n",
            "|Apple Cinnamon Ch...|  G|   C|     110|      2|  2|   180|  1.5| 10.5|    10|    70|      25|    1|   1.0|0.75|29.509541|\n",
            "|             Basic 4|  G|   C|     130|      3|  2|   210|  2.0| 18.0|     8|   100|      25|    3|  1.33|0.75|37.038562|\n",
            "|            Cheerios|  G|   C|     110|      6|  2|   290|  2.0| 17.0|     1|   105|      25|    1|   1.0|1.25|50.764999|\n",
            "+--------------------+---+----+--------+-------+---+------+-----+-----+------+------+--------+-----+------+----+---------+\n",
            "only showing top 3 rows\n",
            "\n"
          ]
        },
        {
          "output_type": "execute_result",
          "data": {
            "text/plain": [
              "22"
            ]
          },
          "metadata": {},
          "execution_count": 28
        }
      ]
    },
    {
      "cell_type": "code",
      "source": [
        "# Visualizando todas as colunas que se tem na tabela\n",
        "df.printSchema()"
      ],
      "metadata": {
        "id": "RPvd6K-uf7_h",
        "outputId": "12ca690a-cd8f-4d23-aa89-f5eb903f2e20",
        "colab": {
          "base_uri": "https://localhost:8080/"
        }
      },
      "execution_count": 30,
      "outputs": [
        {
          "output_type": "stream",
          "name": "stdout",
          "text": [
            "root\n",
            " |-- name: string (nullable = true)\n",
            " |-- mfr: string (nullable = true)\n",
            " |-- type: string (nullable = true)\n",
            " |-- calories: long (nullable = true)\n",
            " |-- protein: long (nullable = true)\n",
            " |-- fat: long (nullable = true)\n",
            " |-- sodium: long (nullable = true)\n",
            " |-- fiber: double (nullable = true)\n",
            " |-- carbo: double (nullable = true)\n",
            " |-- sugars: long (nullable = true)\n",
            " |-- potass: long (nullable = true)\n",
            " |-- vitamins: long (nullable = true)\n",
            " |-- shelf: long (nullable = true)\n",
            " |-- weight: double (nullable = true)\n",
            " |-- cups: double (nullable = true)\n",
            " |-- rating: double (nullable = true)\n",
            "\n"
          ]
        }
      ]
    },
    {
      "cell_type": "code",
      "source": [
        "df.createOrReplaceTempView(\"cereal\")"
      ],
      "metadata": {
        "id": "wCVJgUNDkMho"
      },
      "execution_count": 31,
      "outputs": []
    },
    {
      "cell_type": "code",
      "source": [
        "# Select no SparkSQL\n",
        "# Removendo duplicatas -> DISTINCT\n",
        "cereal = spark.sql('''SELECT DISTINCT name, type, mfr FROM cereal''')\n",
        "cereal.show(3)"
      ],
      "metadata": {
        "id": "KeTfMvT5jybK",
        "outputId": "2c2f9d8f-a85f-4836-ce05-8c00df312385",
        "colab": {
          "base_uri": "https://localhost:8080/"
        }
      },
      "execution_count": 33,
      "outputs": [
        {
          "output_type": "stream",
          "name": "stdout",
          "text": [
            "+-------------------+----+---+\n",
            "|               name|type|mfr|\n",
            "+-------------------+----+---+\n",
            "|Frosted Mini-Wheats|   C|  K|\n",
            "|      Count Chocula|   C|  G|\n",
            "|            Crispix|   C|  K|\n",
            "+-------------------+----+---+\n",
            "only showing top 3 rows\n",
            "\n"
          ]
        }
      ]
    },
    {
      "cell_type": "code",
      "source": [
        "# Removendo duplicatas -> DISTINCT\n",
        "cereal = spark.sql('''SELECT DISTINCT type, mfr FROM cereal''')\n",
        "cereal.show()\n",
        "cereal.count()"
      ],
      "metadata": {
        "id": "3VH2bz7ukU5m",
        "outputId": "dc6ca82e-7677-4c9a-aa2d-e3a14df8a180",
        "colab": {
          "base_uri": "https://localhost:8080/"
        }
      },
      "execution_count": 37,
      "outputs": [
        {
          "output_type": "stream",
          "name": "stdout",
          "text": [
            "+----+---+\n",
            "|type|mfr|\n",
            "+----+---+\n",
            "|   C|  P|\n",
            "|   C|  Q|\n",
            "|   C|  N|\n",
            "|   C|  R|\n",
            "|   H|  N|\n",
            "|   C|  G|\n",
            "|   C|  K|\n",
            "|   H|  Q|\n",
            "|   H|  A|\n",
            "+----+---+\n",
            "\n"
          ]
        },
        {
          "output_type": "execute_result",
          "data": {
            "text/plain": [
              "9"
            ]
          },
          "metadata": {},
          "execution_count": 37
        }
      ]
    },
    {
      "cell_type": "code",
      "source": [
        "# Where no Spark SQL\n",
        "cereal = spark.sql('''SELECT * FROM cereal WHERE mfr = 'K' AND calories >= 100 ''')\n",
        "cereal.count()\n",
        "cereal.show()"
      ],
      "metadata": {
        "id": "6Jwpk_Olkqgc",
        "outputId": "1951a703-3002-41d4-9b5d-a4cb22505fa5",
        "colab": {
          "base_uri": "https://localhost:8080/"
        }
      },
      "execution_count": 42,
      "outputs": [
        {
          "output_type": "stream",
          "name": "stdout",
          "text": [
            "+--------------------+---+----+--------+-------+---+------+-----+-----+------+------+--------+-----+------+----+---------+\n",
            "|                name|mfr|type|calories|protein|fat|sodium|fiber|carbo|sugars|potass|vitamins|shelf|weight|cups|   rating|\n",
            "+--------------------+---+----+--------+-------+---+------+-----+-----+------+------+--------+-----+------+----+---------+\n",
            "|         Apple Jacks|  K|   C|     110|      2|  0|   125|  1.0| 11.0|    14|    30|      25|    2|   1.0| 1.0|33.174094|\n",
            "|         Corn Flakes|  K|   C|     100|      2|  0|   290|  1.0| 21.0|     2|    35|      25|    1|   1.0| 1.0|45.863324|\n",
            "|           Corn Pops|  K|   C|     110|      1|  0|    90|  1.0| 13.0|    12|    20|      25|    2|   1.0| 1.0|35.782791|\n",
            "|  Cracklin' Oat Bran|  K|   C|     110|      3|  3|   140|  4.0| 10.0|     7|   160|      25|    3|   1.0| 0.5|40.448772|\n",
            "|             Crispix|  K|   C|     110|      2|  0|   220|  1.0| 21.0|     3|    30|      25|    3|   1.0| 1.0|46.895644|\n",
            "|         Froot Loops|  K|   C|     110|      2|  1|   125|  1.0| 11.0|    13|    30|      25|    2|   1.0| 1.0|32.207582|\n",
            "|      Frosted Flakes|  K|   C|     110|      1|  0|   200|  1.0| 14.0|    11|    25|      25|    1|   1.0|0.75|31.435973|\n",
            "| Frosted Mini-Wheats|  K|   C|     100|      3|  0|     0|  3.0| 14.0|     7|   100|      25|    2|   1.0| 0.8|58.345141|\n",
            "|       Fruitful Bran|  K|   C|     120|      3|  0|   240|  5.0| 14.0|    12|   190|      25|    3|  1.33|0.67|41.015492|\n",
            "|Just Right Crunch...|  K|   C|     110|      2|  1|   170|  1.0| 17.0|     6|    60|     100|    3|   1.0| 1.0|36.523683|\n",
            "|Just Right Fruit ...|  K|   C|     140|      3|  1|   170|  2.0| 20.0|     9|    95|     100|    3|   1.3|0.75|36.471512|\n",
            "|Mueslix Crispy Blend|  K|   C|     160|      3|  2|   150|  3.0| 17.0|    13|   160|      25|    3|   1.5|0.67|30.313351|\n",
            "|    Nut&Honey Crunch|  K|   C|     120|      2|  1|   190|  0.0| 15.0|     9|    40|      25|    2|   1.0|0.67|29.924285|\n",
            "|Nutri-Grain Almon...|  K|   C|     140|      3|  2|   220|  3.0| 21.0|     7|   130|      25|    3|  1.33|0.67| 40.69232|\n",
            "|          Product 19|  K|   C|     100|      3|  0|   320|  1.0| 20.0|     3|    45|     100|    3|   1.0| 1.0| 41.50354|\n",
            "|         Raisin Bran|  K|   C|     120|      3|  1|   210|  5.0| 14.0|    12|   240|      25|    2|  1.33|0.75|39.259197|\n",
            "|       Rice Krispies|  K|   C|     110|      2|  0|   290|  0.0| 22.0|     3|    35|      25|    1|   1.0| 1.0|40.560159|\n",
            "|              Smacks|  K|   C|     110|      2|  1|    70|  1.0|  9.0|    15|    40|      25|    2|   1.0|0.75|31.230054|\n",
            "|           Special K|  K|   C|     110|      6|  0|   230|  1.0| 16.0|     3|    55|      25|    1|   1.0| 1.0|53.131324|\n",
            "+--------------------+---+----+--------+-------+---+------+-----+-----+------+------+--------+-----+------+----+---------+\n",
            "\n"
          ]
        }
      ]
    },
    {
      "cell_type": "code",
      "source": [
        "#  Group BY\n",
        "# coutn - > funçao nativa do SQL\n",
        "cereal = spark.sql(''' SELECT mfr, \\\n",
        "                              type, \\\n",
        "                              COUNT(*) AS total,\n",
        "                              SUM(calories) AS Total_Calories\n",
        "                        FROM cereal\n",
        "                        GROUP BY \\\n",
        "                              mfr, \\\n",
        "                              type ''')\n",
        "# count -> função nativa do Python\n",
        "cereal.count()\n",
        "cereal.show()"
      ],
      "metadata": {
        "id": "A5HGfE38nDEJ",
        "outputId": "b3a79446-0e3f-4759-fabd-327fa41e66f5",
        "colab": {
          "base_uri": "https://localhost:8080/"
        }
      },
      "execution_count": 49,
      "outputs": [
        {
          "output_type": "stream",
          "name": "stdout",
          "text": [
            "+---+----+-----+--------------+\n",
            "|mfr|type|total|Total_Calories|\n",
            "+---+----+-----+--------------+\n",
            "|  P|   C|    9|           980|\n",
            "|  K|   C|   23|          2500|\n",
            "|  G|   C|   22|          2450|\n",
            "|  Q|   C|    7|           660|\n",
            "|  R|   C|    8|           920|\n",
            "|  N|   H|    1|           100|\n",
            "|  N|   C|    5|           420|\n",
            "|  A|   H|    1|           100|\n",
            "|  Q|   H|    1|           100|\n",
            "+---+----+-----+--------------+\n",
            "\n"
          ]
        }
      ]
    },
    {
      "cell_type": "code",
      "source": [
        "cereal = spark.sql(''' SELECT DISTINCT type\n",
        "                       FROM cereal ''')\n",
        "cereal.show()"
      ],
      "metadata": {
        "id": "qy4q7eXbqG2U",
        "outputId": "58eca59d-0f95-44b6-eddc-23045cddb6ed",
        "colab": {
          "base_uri": "https://localhost:8080/"
        }
      },
      "execution_count": 48,
      "outputs": [
        {
          "output_type": "stream",
          "name": "stdout",
          "text": [
            "+----+\n",
            "|type|\n",
            "+----+\n",
            "|   C|\n",
            "|   H|\n",
            "+----+\n",
            "\n"
          ]
        }
      ]
    },
    {
      "cell_type": "code",
      "source": [
        "# Case WHEN\n",
        "cereal = spark.sql(''' SELECT mfr, \\\n",
        "                              type, \\\n",
        "                              (case\n",
        "                              -- alterando as letras\n",
        "                                    when type = 'C' then 'A'\n",
        "                                    when type = 'H' then 'B'\n",
        "                                    else 'C'\n",
        "                              end) as type_new,\n",
        "                              COUNT(*) AS total,\n",
        "                              SUM(calories) AS Total_Calories\n",
        "                        FROM cereal\n",
        "                        GROUP BY \\\n",
        "                              mfr, \\\n",
        "                              type ''')\n",
        "# count -> função nativa do Python\n",
        "cereal.count()\n",
        "cereal.show()"
      ],
      "metadata": {
        "id": "otMcXMY4o3rX",
        "outputId": "364ab26f-47d9-4f1c-ee1c-a3b825829628",
        "colab": {
          "base_uri": "https://localhost:8080/"
        }
      },
      "execution_count": 53,
      "outputs": [
        {
          "output_type": "stream",
          "name": "stdout",
          "text": [
            "+---+----+--------+-----+--------------+\n",
            "|mfr|type|type_new|total|Total_Calories|\n",
            "+---+----+--------+-----+--------------+\n",
            "|  P|   C|       A|    9|           980|\n",
            "|  K|   C|       A|   23|          2500|\n",
            "|  G|   C|       A|   22|          2450|\n",
            "|  Q|   C|       A|    7|           660|\n",
            "|  R|   C|       A|    8|           920|\n",
            "|  N|   H|       B|    1|           100|\n",
            "|  N|   C|       A|    5|           420|\n",
            "|  A|   H|       B|    1|           100|\n",
            "|  Q|   H|       B|    1|           100|\n",
            "+---+----+--------+-----+--------------+\n",
            "\n"
          ]
        }
      ]
    }
  ]
}