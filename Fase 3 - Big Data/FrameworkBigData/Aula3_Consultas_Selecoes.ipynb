{
  "nbformat": 4,
  "nbformat_minor": 0,
  "metadata": {
    "colab": {
      "provenance": [],
      "authorship_tag": "ABX9TyMlC+45C+bt1QFeEL1VW5HK"
    },
    "kernelspec": {
      "name": "python3",
      "display_name": "Python 3"
    },
    "language_info": {
      "name": "python"
    }
  },
  "cells": [
    {
      "cell_type": "markdown",
      "source": [
        "# Aula 3 - Consultas e Seleções"
      ],
      "metadata": {
        "id": "-JwsrJXHF6Gv"
      }
    },
    {
      "cell_type": "code",
      "execution_count": 1,
      "metadata": {
        "id": "k2lGgUNxEfGd"
      },
      "outputs": [],
      "source": [
        "import pyspark\n",
        "from pyspark.sql import SparkSession\n",
        "spark = SparkSession.builder.master(\"local[*]\").getOrCreate()"
      ]
    },
    {
      "cell_type": "code",
      "source": [
        "# Spark SQl Consultas e Seleções\n",
        "df = spark.sql('''select 'OK' as Status''')\n",
        "df.show()"
      ],
      "metadata": {
        "id": "YCfNjH7UdhtH",
        "outputId": "59f023d9-8197-4d9b-c80d-587db4a0e999",
        "colab": {
          "base_uri": "https://localhost:8080/"
        }
      },
      "execution_count": 2,
      "outputs": [
        {
          "output_type": "stream",
          "name": "stdout",
          "text": [
            "+------+\n",
            "|Status|\n",
            "+------+\n",
            "|    OK|\n",
            "+------+\n",
            "\n"
          ]
        }
      ]
    },
    {
      "cell_type": "code",
      "source": [
        "# Importing Data\n",
        "# df = spark.read.csv('ceral.csv', sep = ',', interShema = True, header = True)\n",
        "import requests\n",
        "import pandas as pd\n",
        "import io\n",
        "\n",
        "url = \"https://raw.githubusercontent.com/SandraRojasZ/Pos_Tech_Data_Analytics/main/Base_de_Dados/cereal.csv\"\n",
        "#df = spark.read.csv('cereal.csv', sep = ',', inferSchema = True, header = True)\n",
        "response = requests.get(url)\n",
        "response.raise_for_status()  # Raise an exception for bad status codes\n",
        "\n",
        "# Convert the data to a Pandas DataFrame\n",
        "data = response.text\n",
        "df_pandas = pd.read_csv(io.StringIO(data))"
      ],
      "metadata": {
        "id": "_9bP2C9reBLk"
      },
      "execution_count": 3,
      "outputs": []
    },
    {
      "cell_type": "code",
      "source": [
        "df = spark.createDataFrame(df_pandas)\n",
        "\n",
        "print('df.count :', df.count())\n",
        "print('df.col ct :', len(df.columns))\n",
        "print('df.columns:', df.columns)"
      ],
      "metadata": {
        "id": "2V4PaAvkeyDW",
        "outputId": "f38049c0-17e1-48c3-9d5f-51cbfa1b3933",
        "colab": {
          "base_uri": "https://localhost:8080/"
        }
      },
      "execution_count": 4,
      "outputs": [
        {
          "output_type": "stream",
          "name": "stdout",
          "text": [
            "df.count : 77\n",
            "df.col ct : 16\n",
            "df.columns: ['name', 'mfr', 'type', 'calories', 'protein', 'fat', 'sodium', 'fiber', 'carbo', 'sugars', 'potass', 'vitamins', 'shelf', 'weight', 'cups', 'rating']\n"
          ]
        }
      ]
    },
    {
      "cell_type": "code",
      "source": [
        "df.show(3)"
      ],
      "metadata": {
        "id": "6sWtczCAe3mV",
        "outputId": "e6799087-71ad-46bf-df8c-83d5372638c0",
        "colab": {
          "base_uri": "https://localhost:8080/"
        }
      },
      "execution_count": 5,
      "outputs": [
        {
          "output_type": "stream",
          "name": "stdout",
          "text": [
            "+-----------------+---+----+--------+-------+---+------+-----+-----+------+------+--------+-----+------+----+---------+\n",
            "|             name|mfr|type|calories|protein|fat|sodium|fiber|carbo|sugars|potass|vitamins|shelf|weight|cups|   rating|\n",
            "+-----------------+---+----+--------+-------+---+------+-----+-----+------+------+--------+-----+------+----+---------+\n",
            "|        100% Bran|  N|   C|      70|      4|  1|   130| 10.0|  5.0|     6|   280|      25|    3|   1.0|0.33|68.402973|\n",
            "|100% Natural Bran|  Q|   C|     120|      3|  5|    15|  2.0|  8.0|     8|   135|       0|    3|   1.0| 1.0|33.983679|\n",
            "|         All-Bran|  K|   C|      70|      4|  1|   260|  9.0|  7.0|     5|   320|      25|    3|   1.0|0.33|59.425505|\n",
            "+-----------------+---+----+--------+-------+---+------+-----+-----+------+------+--------+-----+------+----+---------+\n",
            "only showing top 3 rows\n",
            "\n"
          ]
        }
      ]
    },
    {
      "cell_type": "code",
      "source": [
        "# Manipulation Data with  Spark SQL\n",
        "# Criado uma tabela temporária a partir do df\n",
        "df.createOrReplaceTempView(\"cereal\")"
      ],
      "metadata": {
        "id": "Cu5KbHvFfGB1"
      },
      "execution_count": 6,
      "outputs": []
    },
    {
      "cell_type": "code",
      "source": [
        "cereal = spark.sql('''SELECT COUNT(*) AS total FROM cereal WHERE mfr = 'G' ''')\n",
        "cereal.show(3)\n",
        "# cereal.count()"
      ],
      "metadata": {
        "id": "BtUHLVkWfQq_",
        "outputId": "36c86385-07c8-458b-fac2-130416dd3b3b",
        "colab": {
          "base_uri": "https://localhost:8080/"
        }
      },
      "execution_count": 7,
      "outputs": [
        {
          "output_type": "stream",
          "name": "stdout",
          "text": [
            "+-----+\n",
            "|total|\n",
            "+-----+\n",
            "|   22|\n",
            "+-----+\n",
            "\n"
          ]
        }
      ]
    },
    {
      "cell_type": "code",
      "source": [
        "df.where(df['mfr'] == 'G').show(3)\n",
        "df.where(df['mfr'] == 'G').count()"
      ],
      "metadata": {
        "id": "onoEGi23ffGn",
        "outputId": "8d6b568e-6718-40f9-de46-4e3cece2ce69",
        "colab": {
          "base_uri": "https://localhost:8080/"
        }
      },
      "execution_count": 8,
      "outputs": [
        {
          "output_type": "stream",
          "name": "stdout",
          "text": [
            "+--------------------+---+----+--------+-------+---+------+-----+-----+------+------+--------+-----+------+----+---------+\n",
            "|                name|mfr|type|calories|protein|fat|sodium|fiber|carbo|sugars|potass|vitamins|shelf|weight|cups|   rating|\n",
            "+--------------------+---+----+--------+-------+---+------+-----+-----+------+------+--------+-----+------+----+---------+\n",
            "|Apple Cinnamon Ch...|  G|   C|     110|      2|  2|   180|  1.5| 10.5|    10|    70|      25|    1|   1.0|0.75|29.509541|\n",
            "|             Basic 4|  G|   C|     130|      3|  2|   210|  2.0| 18.0|     8|   100|      25|    3|  1.33|0.75|37.038562|\n",
            "|            Cheerios|  G|   C|     110|      6|  2|   290|  2.0| 17.0|     1|   105|      25|    1|   1.0|1.25|50.764999|\n",
            "+--------------------+---+----+--------+-------+---+------+-----+-----+------+------+--------+-----+------+----+---------+\n",
            "only showing top 3 rows\n",
            "\n"
          ]
        },
        {
          "output_type": "execute_result",
          "data": {
            "text/plain": [
              "22"
            ]
          },
          "metadata": {},
          "execution_count": 8
        }
      ]
    },
    {
      "cell_type": "code",
      "source": [
        "# Visualizando todas as colunas que se tem na tabela\n",
        "df.printSchema()"
      ],
      "metadata": {
        "id": "RPvd6K-uf7_h",
        "outputId": "e1122087-9c7b-4a81-88cd-63d3b4dadf25",
        "colab": {
          "base_uri": "https://localhost:8080/"
        }
      },
      "execution_count": 9,
      "outputs": [
        {
          "output_type": "stream",
          "name": "stdout",
          "text": [
            "root\n",
            " |-- name: string (nullable = true)\n",
            " |-- mfr: string (nullable = true)\n",
            " |-- type: string (nullable = true)\n",
            " |-- calories: long (nullable = true)\n",
            " |-- protein: long (nullable = true)\n",
            " |-- fat: long (nullable = true)\n",
            " |-- sodium: long (nullable = true)\n",
            " |-- fiber: double (nullable = true)\n",
            " |-- carbo: double (nullable = true)\n",
            " |-- sugars: long (nullable = true)\n",
            " |-- potass: long (nullable = true)\n",
            " |-- vitamins: long (nullable = true)\n",
            " |-- shelf: long (nullable = true)\n",
            " |-- weight: double (nullable = true)\n",
            " |-- cups: double (nullable = true)\n",
            " |-- rating: double (nullable = true)\n",
            "\n"
          ]
        }
      ]
    },
    {
      "cell_type": "code",
      "source": [
        "df.createOrReplaceTempView(\"cereal\")"
      ],
      "metadata": {
        "id": "wCVJgUNDkMho"
      },
      "execution_count": 10,
      "outputs": []
    },
    {
      "cell_type": "code",
      "source": [
        "# Select no SparkSQL\n",
        "# Removendo duplicatas -> DISTINCT\n",
        "cereal = spark.sql('''SELECT DISTINCT name, type, mfr FROM cereal''')\n",
        "cereal.show(3)"
      ],
      "metadata": {
        "id": "KeTfMvT5jybK",
        "outputId": "2c48992a-611e-4cdf-bba2-76e361e45e32",
        "colab": {
          "base_uri": "https://localhost:8080/"
        }
      },
      "execution_count": 11,
      "outputs": [
        {
          "output_type": "stream",
          "name": "stdout",
          "text": [
            "+-------------------+----+---+\n",
            "|               name|type|mfr|\n",
            "+-------------------+----+---+\n",
            "|Frosted Mini-Wheats|   C|  K|\n",
            "|      Count Chocula|   C|  G|\n",
            "|            Crispix|   C|  K|\n",
            "+-------------------+----+---+\n",
            "only showing top 3 rows\n",
            "\n"
          ]
        }
      ]
    },
    {
      "cell_type": "code",
      "source": [
        "# Removendo duplicatas -> DISTINCT\n",
        "cereal = spark.sql('''SELECT DISTINCT type, mfr FROM cereal''')\n",
        "cereal.show()\n",
        "cereal.count()"
      ],
      "metadata": {
        "id": "3VH2bz7ukU5m",
        "outputId": "a5acf5c6-5df3-45fd-cb83-0676f3125358",
        "colab": {
          "base_uri": "https://localhost:8080/"
        }
      },
      "execution_count": 12,
      "outputs": [
        {
          "output_type": "stream",
          "name": "stdout",
          "text": [
            "+----+---+\n",
            "|type|mfr|\n",
            "+----+---+\n",
            "|   C|  P|\n",
            "|   C|  Q|\n",
            "|   C|  N|\n",
            "|   C|  R|\n",
            "|   H|  N|\n",
            "|   C|  G|\n",
            "|   C|  K|\n",
            "|   H|  Q|\n",
            "|   H|  A|\n",
            "+----+---+\n",
            "\n"
          ]
        },
        {
          "output_type": "execute_result",
          "data": {
            "text/plain": [
              "9"
            ]
          },
          "metadata": {},
          "execution_count": 12
        }
      ]
    },
    {
      "cell_type": "code",
      "source": [
        "# Where no Spark SQL\n",
        "cereal = spark.sql('''SELECT * FROM cereal WHERE mfr = 'K' AND calories >= 100 ''')\n",
        "cereal.count()\n",
        "cereal.show()"
      ],
      "metadata": {
        "id": "6Jwpk_Olkqgc",
        "outputId": "34518314-c6f2-443c-e879-d3f72457617f",
        "colab": {
          "base_uri": "https://localhost:8080/"
        }
      },
      "execution_count": 13,
      "outputs": [
        {
          "output_type": "stream",
          "name": "stdout",
          "text": [
            "+--------------------+---+----+--------+-------+---+------+-----+-----+------+------+--------+-----+------+----+---------+\n",
            "|                name|mfr|type|calories|protein|fat|sodium|fiber|carbo|sugars|potass|vitamins|shelf|weight|cups|   rating|\n",
            "+--------------------+---+----+--------+-------+---+------+-----+-----+------+------+--------+-----+------+----+---------+\n",
            "|         Apple Jacks|  K|   C|     110|      2|  0|   125|  1.0| 11.0|    14|    30|      25|    2|   1.0| 1.0|33.174094|\n",
            "|         Corn Flakes|  K|   C|     100|      2|  0|   290|  1.0| 21.0|     2|    35|      25|    1|   1.0| 1.0|45.863324|\n",
            "|           Corn Pops|  K|   C|     110|      1|  0|    90|  1.0| 13.0|    12|    20|      25|    2|   1.0| 1.0|35.782791|\n",
            "|  Cracklin' Oat Bran|  K|   C|     110|      3|  3|   140|  4.0| 10.0|     7|   160|      25|    3|   1.0| 0.5|40.448772|\n",
            "|             Crispix|  K|   C|     110|      2|  0|   220|  1.0| 21.0|     3|    30|      25|    3|   1.0| 1.0|46.895644|\n",
            "|         Froot Loops|  K|   C|     110|      2|  1|   125|  1.0| 11.0|    13|    30|      25|    2|   1.0| 1.0|32.207582|\n",
            "|      Frosted Flakes|  K|   C|     110|      1|  0|   200|  1.0| 14.0|    11|    25|      25|    1|   1.0|0.75|31.435973|\n",
            "| Frosted Mini-Wheats|  K|   C|     100|      3|  0|     0|  3.0| 14.0|     7|   100|      25|    2|   1.0| 0.8|58.345141|\n",
            "|       Fruitful Bran|  K|   C|     120|      3|  0|   240|  5.0| 14.0|    12|   190|      25|    3|  1.33|0.67|41.015492|\n",
            "|Just Right Crunch...|  K|   C|     110|      2|  1|   170|  1.0| 17.0|     6|    60|     100|    3|   1.0| 1.0|36.523683|\n",
            "|Just Right Fruit ...|  K|   C|     140|      3|  1|   170|  2.0| 20.0|     9|    95|     100|    3|   1.3|0.75|36.471512|\n",
            "|Mueslix Crispy Blend|  K|   C|     160|      3|  2|   150|  3.0| 17.0|    13|   160|      25|    3|   1.5|0.67|30.313351|\n",
            "|    Nut&Honey Crunch|  K|   C|     120|      2|  1|   190|  0.0| 15.0|     9|    40|      25|    2|   1.0|0.67|29.924285|\n",
            "|Nutri-Grain Almon...|  K|   C|     140|      3|  2|   220|  3.0| 21.0|     7|   130|      25|    3|  1.33|0.67| 40.69232|\n",
            "|          Product 19|  K|   C|     100|      3|  0|   320|  1.0| 20.0|     3|    45|     100|    3|   1.0| 1.0| 41.50354|\n",
            "|         Raisin Bran|  K|   C|     120|      3|  1|   210|  5.0| 14.0|    12|   240|      25|    2|  1.33|0.75|39.259197|\n",
            "|       Rice Krispies|  K|   C|     110|      2|  0|   290|  0.0| 22.0|     3|    35|      25|    1|   1.0| 1.0|40.560159|\n",
            "|              Smacks|  K|   C|     110|      2|  1|    70|  1.0|  9.0|    15|    40|      25|    2|   1.0|0.75|31.230054|\n",
            "|           Special K|  K|   C|     110|      6|  0|   230|  1.0| 16.0|     3|    55|      25|    1|   1.0| 1.0|53.131324|\n",
            "+--------------------+---+----+--------+-------+---+------+-----+-----+------+------+--------+-----+------+----+---------+\n",
            "\n"
          ]
        }
      ]
    },
    {
      "cell_type": "code",
      "source": [
        "#  Group BY\n",
        "# coutn - > funçao nativa do SQL\n",
        "cereal = spark.sql(''' SELECT mfr, \\\n",
        "                              type, \\\n",
        "                              COUNT(*) AS total,\n",
        "                              SUM(calories) AS Total_Calories\n",
        "                        FROM cereal\n",
        "                        GROUP BY \\\n",
        "                              mfr, \\\n",
        "                              type ''')\n",
        "# count -> função nativa do Python\n",
        "cereal.count()\n",
        "cereal.show()"
      ],
      "metadata": {
        "id": "A5HGfE38nDEJ",
        "outputId": "cd1ccb2c-4b00-42c6-ae19-177b2c962c68",
        "colab": {
          "base_uri": "https://localhost:8080/"
        }
      },
      "execution_count": 14,
      "outputs": [
        {
          "output_type": "stream",
          "name": "stdout",
          "text": [
            "+---+----+-----+--------------+\n",
            "|mfr|type|total|Total_Calories|\n",
            "+---+----+-----+--------------+\n",
            "|  P|   C|    9|           980|\n",
            "|  K|   C|   23|          2500|\n",
            "|  G|   C|   22|          2450|\n",
            "|  Q|   C|    7|           660|\n",
            "|  R|   C|    8|           920|\n",
            "|  N|   H|    1|           100|\n",
            "|  N|   C|    5|           420|\n",
            "|  A|   H|    1|           100|\n",
            "|  Q|   H|    1|           100|\n",
            "+---+----+-----+--------------+\n",
            "\n"
          ]
        }
      ]
    },
    {
      "cell_type": "code",
      "source": [
        "cereal = spark.sql(''' SELECT DISTINCT type\n",
        "                       FROM cereal ''')\n",
        "cereal.show()"
      ],
      "metadata": {
        "id": "qy4q7eXbqG2U",
        "outputId": "6a6fda5e-29a5-4eb5-cb67-1bd49ba2e03a",
        "colab": {
          "base_uri": "https://localhost:8080/"
        }
      },
      "execution_count": 15,
      "outputs": [
        {
          "output_type": "stream",
          "name": "stdout",
          "text": [
            "+----+\n",
            "|type|\n",
            "+----+\n",
            "|   C|\n",
            "|   H|\n",
            "+----+\n",
            "\n"
          ]
        }
      ]
    },
    {
      "cell_type": "code",
      "source": [
        "# Case WHEN\n",
        "cereal = spark.sql(''' SELECT mfr, \\\n",
        "                              type, \\\n",
        "                              (case\n",
        "                              -- alterando as letras\n",
        "                                    when type = 'C' then 'A'\n",
        "                                    when type = 'H' then 'B'\n",
        "                                    else 'C'\n",
        "                              end) as type_new,\n",
        "                              COUNT(*) AS total,\n",
        "                              SUM(calories) AS Total_Calories\n",
        "                        FROM cereal\n",
        "                        GROUP BY \\\n",
        "                              mfr, \\\n",
        "                              type ''')\n",
        "# count -> função nativa do Python\n",
        "cereal.count()\n",
        "cereal.show()"
      ],
      "metadata": {
        "id": "otMcXMY4o3rX",
        "outputId": "923698e2-80cd-40ec-d4b7-4315d5c938b2",
        "colab": {
          "base_uri": "https://localhost:8080/"
        }
      },
      "execution_count": 16,
      "outputs": [
        {
          "output_type": "stream",
          "name": "stdout",
          "text": [
            "+---+----+--------+-----+--------------+\n",
            "|mfr|type|type_new|total|Total_Calories|\n",
            "+---+----+--------+-----+--------------+\n",
            "|  P|   C|       A|    9|           980|\n",
            "|  K|   C|       A|   23|          2500|\n",
            "|  G|   C|       A|   22|          2450|\n",
            "|  Q|   C|       A|    7|           660|\n",
            "|  R|   C|       A|    8|           920|\n",
            "|  N|   H|       B|    1|           100|\n",
            "|  N|   C|       A|    5|           420|\n",
            "|  A|   H|       B|    1|           100|\n",
            "|  Q|   H|       B|    1|           100|\n",
            "+---+----+--------+-----+--------------+\n",
            "\n"
          ]
        }
      ]
    },
    {
      "cell_type": "code",
      "source": [
        "# Consultas Avançadas em SQL usando PySpark\n",
        "cereal_op = spark.sql('''\n",
        "                    SELECT mfr,\n",
        "                          type,\n",
        "                          sum(calories) as sum_cal,\n",
        "                          min(calories) as min_cal,\n",
        "                          max(calories) as max_cal,\n",
        "                          avg(calories) avg_cal,\n",
        "                          count(distinct name) as count_distinct_names,\n",
        "                          count(name) as count_names\n",
        "                    FROM cereal\n",
        "                    GROUP BY mfr, type\n",
        "                    ORDER BY mfr, type\n",
        "                    ''')\n",
        "cereal_op.show()"
      ],
      "metadata": {
        "colab": {
          "base_uri": "https://localhost:8080/"
        },
        "id": "WNY3zTS8iZ3G",
        "outputId": "9e280bec-a74f-4a65-d23b-7a5c424cc3e0"
      },
      "execution_count": 17,
      "outputs": [
        {
          "output_type": "stream",
          "name": "stdout",
          "text": [
            "+---+----+-------+-------+-------+------------------+--------------------+-----------+\n",
            "|mfr|type|sum_cal|min_cal|max_cal|           avg_cal|count_distinct_names|count_names|\n",
            "+---+----+-------+-------+-------+------------------+--------------------+-----------+\n",
            "|  A|   H|    100|    100|    100|             100.0|                   1|          1|\n",
            "|  G|   C|   2450|    100|    140|111.36363636363636|                  22|         22|\n",
            "|  K|   C|   2500|     50|    160|108.69565217391305|                  23|         23|\n",
            "|  N|   C|    420|     70|     90|              84.0|                   5|          5|\n",
            "|  N|   H|    100|    100|    100|             100.0|                   1|          1|\n",
            "|  P|   C|    980|     90|    120|108.88888888888889|                   9|          9|\n",
            "|  Q|   C|    660|     50|    120| 94.28571428571429|                   7|          7|\n",
            "|  Q|   H|    100|    100|    100|             100.0|                   1|          1|\n",
            "|  R|   C|    920|     90|    150|             115.0|                   8|          8|\n",
            "+---+----+-------+-------+-------+------------------+--------------------+-----------+\n",
            "\n"
          ]
        }
      ]
    },
    {
      "cell_type": "code",
      "source": [
        "# Consultas Avançadas em SQL usando PySpark\n",
        "cereal_op = spark.sql('''\n",
        "                    SELECT mfr,\n",
        "                           type,\n",
        "                           sum(calories) as sum_cal,\n",
        "                           min(calories) as min_cal,\n",
        "                           max(calories) as max_cal,\n",
        "                           cast(avg(calories) as decimal(10,2)) avg_cal,\n",
        "\n",
        "                           sum(carbo) as sum_carbo,\n",
        "                           min(carbo) as min_carbo,\n",
        "                           max(carbo) as max_carbo,\n",
        "                           cast(avg(carbo) as decimal(10,2)) as avg_carbo,\n",
        "\n",
        "                           sum(vitamins) as sum_vitamins,\n",
        "                           min(vitamins) as min_vitamins,\n",
        "                           max(vitamins) as max_vitamins,\n",
        "                           cast(avg(vitamins) as decimal(10,2)) avg_vitamins,\n",
        "\n",
        "                           count(distinct name) as count_distinct_names,\n",
        "                           count(name) as count_names\n",
        "                    FROM cereal\n",
        "                    GROUP BY mfr, type\n",
        "                    ORDER BY mfr, type\n",
        "                    ''')\n",
        "cereal_op.show()"
      ],
      "metadata": {
        "colab": {
          "base_uri": "https://localhost:8080/"
        },
        "id": "OkiVYEP9jn9c",
        "outputId": "621376c8-c8ac-4784-b143-2b6493f69b88"
      },
      "execution_count": 18,
      "outputs": [
        {
          "output_type": "stream",
          "name": "stdout",
          "text": [
            "+---+----+-------+-------+-------+-------+---------+---------+---------+---------+------------+------------+------------+------------+--------------------+-----------+\n",
            "|mfr|type|sum_cal|min_cal|max_cal|avg_cal|sum_carbo|min_carbo|max_carbo|avg_carbo|sum_vitamins|min_vitamins|max_vitamins|avg_vitamins|count_distinct_names|count_names|\n",
            "+---+----+-------+-------+-------+-------+---------+---------+---------+---------+------------+------------+------------+------------+--------------------+-----------+\n",
            "|  A|   H|    100|    100|    100| 100.00|     16.0|     16.0|     16.0|    16.00|          25|          25|          25|       25.00|                   1|          1|\n",
            "|  G|   C|   2450|    100|    140| 111.36|    324.0|     10.5|     21.0|    14.73|         775|          25|         100|       35.23|                  22|         22|\n",
            "|  K|   C|   2500|     50|    160| 108.70|    348.0|      7.0|     22.0|    15.13|         800|          25|         100|       34.78|                  23|         23|\n",
            "|  N|   C|    420|     70|     90|  84.00|     75.0|      5.0|     20.0|    15.00|          50|           0|          25|       10.00|                   5|          5|\n",
            "|  N|   H|    100|    100|    100| 100.00|     21.0|     21.0|     21.0|    21.00|           0|           0|           0|        0.00|                   1|          1|\n",
            "|  P|   C|    980|     90|    120| 108.89|    119.0|     11.0|     17.0|    13.22|         225|          25|          25|       25.00|                   9|          9|\n",
            "|  Q|   C|    660|     50|    120|  94.29|     81.0|      8.0|     14.0|    11.57|         100|           0|          25|       14.29|                   7|          7|\n",
            "|  Q|   H|    100|    100|    100| 100.00|     -1.0|     -1.0|     -1.0|    -1.00|           0|           0|           0|        0.00|                   1|          1|\n",
            "|  R|   C|    920|     90|    150| 115.00|    141.0|     14.0|     23.0|    17.63|         200|          25|          25|       25.00|                   8|          8|\n",
            "+---+----+-------+-------+-------+-------+---------+---------+---------+---------+------------+------------+------------+------------+--------------------+-----------+\n",
            "\n"
          ]
        }
      ]
    },
    {
      "cell_type": "code",
      "source": [
        "cereal_op = spark.sql('''\n",
        "                    SELECT mfr,\n",
        "                           type,\n",
        "                           (case\n",
        "                                when mfr = 'A' then 'Abacaxi'\n",
        "                                when mfr = 'G' then 'Goiaba'\n",
        "                                when mfr = 'K' then 'Banana'\n",
        "                                when mfr = 'N' then 'Maça'\n",
        "                                when mfr = 'P' then 'Tomate'\n",
        "                                when mfr = 'Q' then 'Pera'\n",
        "                                when mfr = 'R' then 'Uva'\n",
        "                                else 'NA'\n",
        "                           end) as type_fruit,\n",
        "\n",
        "                           sum(calories) as sum_cal,\n",
        "                           min(calories) as min_cal,\n",
        "                           max(calories) as max_cal,\n",
        "                           cast(avg(calories) as decimal(10,2)) avg_cal,\n",
        "\n",
        "                           sum(carbo) as sum_carbo,\n",
        "                           min(carbo) as min_carbo,\n",
        "                           max(carbo) as max_carbo,\n",
        "                           cast(avg(carbo) as decimal(10,2)) as avg_carbo,\n",
        "\n",
        "                           sum(vitamins) as sum_vitamins,\n",
        "                           min(vitamins) as min_vitamins,\n",
        "                           max(vitamins) as max_vitamins,\n",
        "                           cast(avg(vitamins) as decimal(10,2)) avg_vitamins,\n",
        "\n",
        "                           count(distinct name) as count_distinct_names,\n",
        "                           count(name) as count_names\n",
        "                    FROM cereal\n",
        "                    GROUP BY mfr, type\n",
        "                    ORDER BY mfr, type\n",
        "                    ''')\n",
        "cereal_op.show()"
      ],
      "metadata": {
        "colab": {
          "base_uri": "https://localhost:8080/"
        },
        "id": "p87x-WMDtwoF",
        "outputId": "cb692c4e-69b7-45c6-b773-8d70a8b0d027"
      },
      "execution_count": 19,
      "outputs": [
        {
          "output_type": "stream",
          "name": "stdout",
          "text": [
            "+---+----+----------+-------+-------+-------+-------+---------+---------+---------+---------+------------+------------+------------+------------+--------------------+-----------+\n",
            "|mfr|type|type_fruit|sum_cal|min_cal|max_cal|avg_cal|sum_carbo|min_carbo|max_carbo|avg_carbo|sum_vitamins|min_vitamins|max_vitamins|avg_vitamins|count_distinct_names|count_names|\n",
            "+---+----+----------+-------+-------+-------+-------+---------+---------+---------+---------+------------+------------+------------+------------+--------------------+-----------+\n",
            "|  A|   H|   Abacaxi|    100|    100|    100| 100.00|     16.0|     16.0|     16.0|    16.00|          25|          25|          25|       25.00|                   1|          1|\n",
            "|  G|   C|    Goiaba|   2450|    100|    140| 111.36|    324.0|     10.5|     21.0|    14.73|         775|          25|         100|       35.23|                  22|         22|\n",
            "|  K|   C|    Banana|   2500|     50|    160| 108.70|    348.0|      7.0|     22.0|    15.13|         800|          25|         100|       34.78|                  23|         23|\n",
            "|  N|   C|      Maça|    420|     70|     90|  84.00|     75.0|      5.0|     20.0|    15.00|          50|           0|          25|       10.00|                   5|          5|\n",
            "|  N|   H|      Maça|    100|    100|    100| 100.00|     21.0|     21.0|     21.0|    21.00|           0|           0|           0|        0.00|                   1|          1|\n",
            "|  P|   C|    Tomate|    980|     90|    120| 108.89|    119.0|     11.0|     17.0|    13.22|         225|          25|          25|       25.00|                   9|          9|\n",
            "|  Q|   C|      Pera|    660|     50|    120|  94.29|     81.0|      8.0|     14.0|    11.57|         100|           0|          25|       14.29|                   7|          7|\n",
            "|  Q|   H|      Pera|    100|    100|    100| 100.00|     -1.0|     -1.0|     -1.0|    -1.00|           0|           0|           0|        0.00|                   1|          1|\n",
            "|  R|   C|       Uva|    920|     90|    150| 115.00|    141.0|     14.0|     23.0|    17.63|         200|          25|          25|       25.00|                   8|          8|\n",
            "+---+----+----------+-------+-------+-------+-------+---------+---------+---------+---------+------------+------------+------------+------------+--------------------+-----------+\n",
            "\n"
          ]
        }
      ]
    },
    {
      "cell_type": "code",
      "source": [
        "# Importing Data\n",
        "# df = spark.read.csv('ceral.csv', sep = ',', interShema = True, header = True)\n",
        "import requests\n",
        "import pandas as pd\n",
        "import io\n",
        "\n",
        "sds = \"https://raw.githubusercontent.com/SandraRojasZ/Pos_Tech_Data_Analytics/main/Base_de_Dados/sales_data_sample.csv\"\n",
        "#df = spark.read.csv('cereal.csv', sep = ',', inferSchema = True, header = True)\n",
        "response = requests.get(sds)\n",
        "response.raise_for_status()  # Raise an exception for bad status codes\n",
        "\n",
        "# Convert the data to a Pandas DataFrame\n",
        "data_s = response.text\n",
        "df_pandas_s = pd.read_csv(io.StringIO(data_s))"
      ],
      "metadata": {
        "id": "-9OkCO7axl-4"
      },
      "execution_count": 20,
      "outputs": []
    },
    {
      "cell_type": "code",
      "source": [
        "sales = spark.createDataFrame(df_pandas_s)\n",
        "\n",
        "print('sales.count :', sales.count())\n",
        "print('sales.col ct :', len(sales.columns))\n",
        "print('sales.columns:', sales.columns)\n",
        "sales.show()"
      ],
      "metadata": {
        "id": "_yo2aavzx_ri",
        "outputId": "13a04ad0-227d-4797-edc7-6bcba33d5ddf",
        "colab": {
          "base_uri": "https://localhost:8080/"
        }
      },
      "execution_count": 21,
      "outputs": [
        {
          "output_type": "stream",
          "name": "stdout",
          "text": [
            "sales.count : 2823\n",
            "sales.col ct : 25\n",
            "sales.columns: ['ORDERNUMBER', 'QUANTITYORDERED', 'PRICEEACH', 'ORDERLINENUMBER', 'SALES', 'ORDERDATE', 'STATUS', 'QTR_ID', 'MONTH_ID', 'YEAR_ID', 'PRODUCTLINE', 'MSRP', 'PRODUCTCODE', 'CUSTOMERNAME', 'PHONE', 'ADDRESSLINE1', 'ADDRESSLINE2', 'CITY', 'STATE', 'POSTALCODE', 'COUNTRY', 'TERRITORY', 'CONTACTLASTNAME', 'CONTACTFIRSTNAME', 'DEALSIZE']\n",
            "+-----------+---------------+---------+---------------+-------+---------------+-------+------+--------+-------+-----------+----+-----------+--------------------+----------------+--------------------+------------+-------------+--------+----------+---------+---------+---------------+----------------+--------+\n",
            "|ORDERNUMBER|QUANTITYORDERED|PRICEEACH|ORDERLINENUMBER|  SALES|      ORDERDATE| STATUS|QTR_ID|MONTH_ID|YEAR_ID|PRODUCTLINE|MSRP|PRODUCTCODE|        CUSTOMERNAME|           PHONE|        ADDRESSLINE1|ADDRESSLINE2|         CITY|   STATE|POSTALCODE|  COUNTRY|TERRITORY|CONTACTLASTNAME|CONTACTFIRSTNAME|DEALSIZE|\n",
            "+-----------+---------------+---------+---------------+-------+---------------+-------+------+--------+-------+-----------+----+-----------+--------------------+----------------+--------------------+------------+-------------+--------+----------+---------+---------+---------------+----------------+--------+\n",
            "|      10107|             30|     95.7|              2| 2871.0| 2/24/2003 0:00|Shipped|     1|       2|   2003|Motorcycles|  95|   S10_1678|   Land of Toys Inc.|      2125557818|897 Long Airport ...|         NaN|          NYC|      NY|     10022|      USA|      NaN|             Yu|            Kwai|   Small|\n",
            "|      10121|             34|    81.35|              5| 2765.9|  5/7/2003 0:00|Shipped|     2|       5|   2003|Motorcycles|  95|   S10_1678|  Reims Collectables|      26.47.1555|  59 rue de l'Abbaye|         NaN|        Reims|     NaN|     51100|   France|     EMEA|        Henriot|            Paul|   Small|\n",
            "|      10134|             41|    94.74|              2|3884.34|  7/1/2003 0:00|Shipped|     3|       7|   2003|Motorcycles|  95|   S10_1678|     Lyon Souveniers|+33 1 46 62 7555|27 rue du Colonel...|         NaN|        Paris|     NaN|     75508|   France|     EMEA|       Da Cunha|          Daniel|  Medium|\n",
            "|      10145|             45|    83.26|              6| 3746.7| 8/25/2003 0:00|Shipped|     3|       8|   2003|Motorcycles|  95|   S10_1678|   Toys4GrownUps.com|      6265557265|  78934 Hillside Dr.|         NaN|     Pasadena|      CA|     90003|      USA|      NaN|          Young|           Julie|  Medium|\n",
            "|      10159|             49|    100.0|             14|5205.27|10/10/2003 0:00|Shipped|     4|      10|   2003|Motorcycles|  95|   S10_1678|Corporate Gift Id...|      6505551386|     7734 Strong St.|         NaN|San Francisco|      CA|       NaN|      USA|      NaN|          Brown|           Julie|  Medium|\n",
            "|      10168|             36|    96.66|              1|3479.76|10/28/2003 0:00|Shipped|     4|      10|   2003|Motorcycles|  95|   S10_1678|Technics Stores Inc.|      6505556809|   9408 Furth Circle|         NaN|   Burlingame|      CA|     94217|      USA|      NaN|         Hirano|            Juri|  Medium|\n",
            "|      10180|             29|    86.13|              9|2497.77|11/11/2003 0:00|Shipped|     4|      11|   2003|Motorcycles|  95|   S10_1678|Daedalus Designs ...|      20.16.1555|184, chausse de T...|         NaN|        Lille|     NaN|     59000|   France|     EMEA|          Rance|         Martine|   Small|\n",
            "|      10188|             48|    100.0|              1|5512.32|11/18/2003 0:00|Shipped|     4|      11|   2003|Motorcycles|  95|   S10_1678|        Herkku Gifts|   +47 2267 3215|Drammen 121, PR 7...|         NaN|       Bergen|     NaN|    N 5804|   Norway|     EMEA|         Oeztan|          Veysel|  Medium|\n",
            "|      10201|             22|    98.57|              2|2168.54| 12/1/2003 0:00|Shipped|     4|      12|   2003|Motorcycles|  95|   S10_1678|     Mini Wheels Co.|      6505555787|5557 North Pendal...|         NaN|San Francisco|      CA|       NaN|      USA|      NaN|         Murphy|           Julie|   Small|\n",
            "|      10211|             41|    100.0|             14|4708.44| 1/15/2004 0:00|Shipped|     1|       1|   2004|Motorcycles|  95|   S10_1678|    Auto Canal Petit|  (1) 47.55.6555|   25, rue Lauriston|         NaN|        Paris|     NaN|     75016|   France|     EMEA|        Perrier|       Dominique|  Medium|\n",
            "|      10223|             37|    100.0|              1|3965.66| 2/20/2004 0:00|Shipped|     1|       2|   2004|Motorcycles|  95|   S10_1678|Australian Collec...|    03 9520 4555|   636 St Kilda Road|     Level 3|    Melbourne|Victoria|      3004|Australia|     APAC|       Ferguson|           Peter|  Medium|\n",
            "|      10237|             23|    100.0|              7|2333.12|  4/5/2004 0:00|Shipped|     2|       4|   2004|Motorcycles|  95|   S10_1678|     Vitachrome Inc.|      2125551500|   2678 Kingston Rd.|   Suite 101|          NYC|      NY|     10022|      USA|      NaN|          Frick|         Michael|   Small|\n",
            "|      10251|             28|    100.0|              2|3188.64| 5/18/2004 0:00|Shipped|     2|       5|   2004|Motorcycles|  95|   S10_1678|Tekni Collectable...|      2015559350|       7476 Moss Rd.|         NaN|       Newark|      NJ|     94019|      USA|      NaN|          Brown|         William|  Medium|\n",
            "|      10263|             34|    100.0|              2|3676.76| 6/28/2004 0:00|Shipped|     2|       6|   2004|Motorcycles|  95|   S10_1678|     Gift Depot Inc.|      2035552570| 25593 South Bay Ln.|         NaN|  Bridgewater|      CT|     97562|      USA|      NaN|           King|           Julie|  Medium|\n",
            "|      10275|             45|    92.83|              1|4177.35| 7/23/2004 0:00|Shipped|     3|       7|   2004|Motorcycles|  95|   S10_1678|   La Rochelle Gifts|      40.67.8555|67, rue des Cinqu...|         NaN|       Nantes|     NaN|     44000|   France|     EMEA|        Labrune|          Janine|  Medium|\n",
            "|      10285|             36|    100.0|              6|4099.68| 8/27/2004 0:00|Shipped|     3|       8|   2004|Motorcycles|  95|   S10_1678|Marta's Replicas Co.|      6175558555| 39323 Spinnaker Dr.|         NaN|    Cambridge|      MA|     51247|      USA|      NaN|      Hernandez|           Marta|  Medium|\n",
            "|      10299|             23|    100.0|              9|2597.39| 9/30/2004 0:00|Shipped|     3|       9|   2004|Motorcycles|  95|   S10_1678|Toys of Finland, Co.|     90-224 8555|       Keskuskatu 45|         NaN|     Helsinki|     NaN|     21240|  Finland|     EMEA|      Karttunen|           Matti|   Small|\n",
            "|      10309|             41|    100.0|              5|4394.38|10/15/2004 0:00|Shipped|     4|      10|   2004|Motorcycles|  95|   S10_1678|  Baane Mini Imports|      07-98 9555|Erling Skakkes ga...|         NaN|      Stavern|     NaN|      4110|   Norway|     EMEA|     Bergulfsen|           Jonas|  Medium|\n",
            "|      10318|             46|    94.74|              1|4358.04| 11/2/2004 0:00|Shipped|     4|      11|   2004|Motorcycles|  95|   S10_1678|Diecast Classics ...|      2155551555|    7586 Pompton St.|         NaN|    Allentown|      PA|     70267|      USA|      NaN|             Yu|           Kyung|  Medium|\n",
            "|      10329|             42|    100.0|              1|4396.14|11/15/2004 0:00|Shipped|     4|      11|   2004|Motorcycles|  95|   S10_1678|   Land of Toys Inc.|      2125557818|897 Long Airport ...|         NaN|          NYC|      NY|     10022|      USA|      NaN|             Yu|            Kwai|  Medium|\n",
            "+-----------+---------------+---------+---------------+-------+---------------+-------+------+--------+-------+-----------+----+-----------+--------------------+----------------+--------------------+------------+-------------+--------+----------+---------+---------+---------------+----------------+--------+\n",
            "only showing top 20 rows\n",
            "\n"
          ]
        }
      ]
    },
    {
      "cell_type": "code",
      "source": [
        "sales.printSchema()"
      ],
      "metadata": {
        "id": "u-9_FsTIyiqV",
        "outputId": "b2d56623-1152-4d8d-86c2-dc7b2021870b",
        "colab": {
          "base_uri": "https://localhost:8080/"
        }
      },
      "execution_count": 22,
      "outputs": [
        {
          "output_type": "stream",
          "name": "stdout",
          "text": [
            "root\n",
            " |-- ORDERNUMBER: long (nullable = true)\n",
            " |-- QUANTITYORDERED: long (nullable = true)\n",
            " |-- PRICEEACH: double (nullable = true)\n",
            " |-- ORDERLINENUMBER: long (nullable = true)\n",
            " |-- SALES: double (nullable = true)\n",
            " |-- ORDERDATE: string (nullable = true)\n",
            " |-- STATUS: string (nullable = true)\n",
            " |-- QTR_ID: long (nullable = true)\n",
            " |-- MONTH_ID: long (nullable = true)\n",
            " |-- YEAR_ID: long (nullable = true)\n",
            " |-- PRODUCTLINE: string (nullable = true)\n",
            " |-- MSRP: long (nullable = true)\n",
            " |-- PRODUCTCODE: string (nullable = true)\n",
            " |-- CUSTOMERNAME: string (nullable = true)\n",
            " |-- PHONE: string (nullable = true)\n",
            " |-- ADDRESSLINE1: string (nullable = true)\n",
            " |-- ADDRESSLINE2: string (nullable = true)\n",
            " |-- CITY: string (nullable = true)\n",
            " |-- STATE: string (nullable = true)\n",
            " |-- POSTALCODE: string (nullable = true)\n",
            " |-- COUNTRY: string (nullable = true)\n",
            " |-- TERRITORY: string (nullable = true)\n",
            " |-- CONTACTLASTNAME: string (nullable = true)\n",
            " |-- CONTACTFIRSTNAME: string (nullable = true)\n",
            " |-- DEALSIZE: string (nullable = true)\n",
            "\n"
          ]
        }
      ]
    },
    {
      "cell_type": "code",
      "source": [
        "# Tabela temporária dentro da sessão do SPARK SQL\n",
        "sales.createOrReplaceTempView('sales')"
      ],
      "metadata": {
        "id": "tLagCrEPy8U8"
      },
      "execution_count": 23,
      "outputs": []
    },
    {
      "cell_type": "code",
      "source": [
        "data_sales = spark.sql('''\n",
        "                    SELECT *\n",
        "                    FROM sales\n",
        "                      ''')\n",
        "data_sales.show()"
      ],
      "metadata": {
        "id": "EsJbdYwjyqj1",
        "outputId": "cedde4c1-b7c8-4ed6-8df1-58708a9501ce",
        "colab": {
          "base_uri": "https://localhost:8080/"
        }
      },
      "execution_count": 24,
      "outputs": [
        {
          "output_type": "stream",
          "name": "stdout",
          "text": [
            "+-----------+---------------+---------+---------------+-------+---------------+-------+------+--------+-------+-----------+----+-----------+--------------------+----------------+--------------------+------------+-------------+--------+----------+---------+---------+---------------+----------------+--------+\n",
            "|ORDERNUMBER|QUANTITYORDERED|PRICEEACH|ORDERLINENUMBER|  SALES|      ORDERDATE| STATUS|QTR_ID|MONTH_ID|YEAR_ID|PRODUCTLINE|MSRP|PRODUCTCODE|        CUSTOMERNAME|           PHONE|        ADDRESSLINE1|ADDRESSLINE2|         CITY|   STATE|POSTALCODE|  COUNTRY|TERRITORY|CONTACTLASTNAME|CONTACTFIRSTNAME|DEALSIZE|\n",
            "+-----------+---------------+---------+---------------+-------+---------------+-------+------+--------+-------+-----------+----+-----------+--------------------+----------------+--------------------+------------+-------------+--------+----------+---------+---------+---------------+----------------+--------+\n",
            "|      10107|             30|     95.7|              2| 2871.0| 2/24/2003 0:00|Shipped|     1|       2|   2003|Motorcycles|  95|   S10_1678|   Land of Toys Inc.|      2125557818|897 Long Airport ...|         NaN|          NYC|      NY|     10022|      USA|      NaN|             Yu|            Kwai|   Small|\n",
            "|      10121|             34|    81.35|              5| 2765.9|  5/7/2003 0:00|Shipped|     2|       5|   2003|Motorcycles|  95|   S10_1678|  Reims Collectables|      26.47.1555|  59 rue de l'Abbaye|         NaN|        Reims|     NaN|     51100|   France|     EMEA|        Henriot|            Paul|   Small|\n",
            "|      10134|             41|    94.74|              2|3884.34|  7/1/2003 0:00|Shipped|     3|       7|   2003|Motorcycles|  95|   S10_1678|     Lyon Souveniers|+33 1 46 62 7555|27 rue du Colonel...|         NaN|        Paris|     NaN|     75508|   France|     EMEA|       Da Cunha|          Daniel|  Medium|\n",
            "|      10145|             45|    83.26|              6| 3746.7| 8/25/2003 0:00|Shipped|     3|       8|   2003|Motorcycles|  95|   S10_1678|   Toys4GrownUps.com|      6265557265|  78934 Hillside Dr.|         NaN|     Pasadena|      CA|     90003|      USA|      NaN|          Young|           Julie|  Medium|\n",
            "|      10159|             49|    100.0|             14|5205.27|10/10/2003 0:00|Shipped|     4|      10|   2003|Motorcycles|  95|   S10_1678|Corporate Gift Id...|      6505551386|     7734 Strong St.|         NaN|San Francisco|      CA|       NaN|      USA|      NaN|          Brown|           Julie|  Medium|\n",
            "|      10168|             36|    96.66|              1|3479.76|10/28/2003 0:00|Shipped|     4|      10|   2003|Motorcycles|  95|   S10_1678|Technics Stores Inc.|      6505556809|   9408 Furth Circle|         NaN|   Burlingame|      CA|     94217|      USA|      NaN|         Hirano|            Juri|  Medium|\n",
            "|      10180|             29|    86.13|              9|2497.77|11/11/2003 0:00|Shipped|     4|      11|   2003|Motorcycles|  95|   S10_1678|Daedalus Designs ...|      20.16.1555|184, chausse de T...|         NaN|        Lille|     NaN|     59000|   France|     EMEA|          Rance|         Martine|   Small|\n",
            "|      10188|             48|    100.0|              1|5512.32|11/18/2003 0:00|Shipped|     4|      11|   2003|Motorcycles|  95|   S10_1678|        Herkku Gifts|   +47 2267 3215|Drammen 121, PR 7...|         NaN|       Bergen|     NaN|    N 5804|   Norway|     EMEA|         Oeztan|          Veysel|  Medium|\n",
            "|      10201|             22|    98.57|              2|2168.54| 12/1/2003 0:00|Shipped|     4|      12|   2003|Motorcycles|  95|   S10_1678|     Mini Wheels Co.|      6505555787|5557 North Pendal...|         NaN|San Francisco|      CA|       NaN|      USA|      NaN|         Murphy|           Julie|   Small|\n",
            "|      10211|             41|    100.0|             14|4708.44| 1/15/2004 0:00|Shipped|     1|       1|   2004|Motorcycles|  95|   S10_1678|    Auto Canal Petit|  (1) 47.55.6555|   25, rue Lauriston|         NaN|        Paris|     NaN|     75016|   France|     EMEA|        Perrier|       Dominique|  Medium|\n",
            "|      10223|             37|    100.0|              1|3965.66| 2/20/2004 0:00|Shipped|     1|       2|   2004|Motorcycles|  95|   S10_1678|Australian Collec...|    03 9520 4555|   636 St Kilda Road|     Level 3|    Melbourne|Victoria|      3004|Australia|     APAC|       Ferguson|           Peter|  Medium|\n",
            "|      10237|             23|    100.0|              7|2333.12|  4/5/2004 0:00|Shipped|     2|       4|   2004|Motorcycles|  95|   S10_1678|     Vitachrome Inc.|      2125551500|   2678 Kingston Rd.|   Suite 101|          NYC|      NY|     10022|      USA|      NaN|          Frick|         Michael|   Small|\n",
            "|      10251|             28|    100.0|              2|3188.64| 5/18/2004 0:00|Shipped|     2|       5|   2004|Motorcycles|  95|   S10_1678|Tekni Collectable...|      2015559350|       7476 Moss Rd.|         NaN|       Newark|      NJ|     94019|      USA|      NaN|          Brown|         William|  Medium|\n",
            "|      10263|             34|    100.0|              2|3676.76| 6/28/2004 0:00|Shipped|     2|       6|   2004|Motorcycles|  95|   S10_1678|     Gift Depot Inc.|      2035552570| 25593 South Bay Ln.|         NaN|  Bridgewater|      CT|     97562|      USA|      NaN|           King|           Julie|  Medium|\n",
            "|      10275|             45|    92.83|              1|4177.35| 7/23/2004 0:00|Shipped|     3|       7|   2004|Motorcycles|  95|   S10_1678|   La Rochelle Gifts|      40.67.8555|67, rue des Cinqu...|         NaN|       Nantes|     NaN|     44000|   France|     EMEA|        Labrune|          Janine|  Medium|\n",
            "|      10285|             36|    100.0|              6|4099.68| 8/27/2004 0:00|Shipped|     3|       8|   2004|Motorcycles|  95|   S10_1678|Marta's Replicas Co.|      6175558555| 39323 Spinnaker Dr.|         NaN|    Cambridge|      MA|     51247|      USA|      NaN|      Hernandez|           Marta|  Medium|\n",
            "|      10299|             23|    100.0|              9|2597.39| 9/30/2004 0:00|Shipped|     3|       9|   2004|Motorcycles|  95|   S10_1678|Toys of Finland, Co.|     90-224 8555|       Keskuskatu 45|         NaN|     Helsinki|     NaN|     21240|  Finland|     EMEA|      Karttunen|           Matti|   Small|\n",
            "|      10309|             41|    100.0|              5|4394.38|10/15/2004 0:00|Shipped|     4|      10|   2004|Motorcycles|  95|   S10_1678|  Baane Mini Imports|      07-98 9555|Erling Skakkes ga...|         NaN|      Stavern|     NaN|      4110|   Norway|     EMEA|     Bergulfsen|           Jonas|  Medium|\n",
            "|      10318|             46|    94.74|              1|4358.04| 11/2/2004 0:00|Shipped|     4|      11|   2004|Motorcycles|  95|   S10_1678|Diecast Classics ...|      2155551555|    7586 Pompton St.|         NaN|    Allentown|      PA|     70267|      USA|      NaN|             Yu|           Kyung|  Medium|\n",
            "|      10329|             42|    100.0|              1|4396.14|11/15/2004 0:00|Shipped|     4|      11|   2004|Motorcycles|  95|   S10_1678|   Land of Toys Inc.|      2125557818|897 Long Airport ...|         NaN|          NYC|      NY|     10022|      USA|      NaN|             Yu|            Kwai|  Medium|\n",
            "+-----------+---------------+---------+---------------+-------+---------------+-------+------+--------+-------+-----------+----+-----------+--------------------+----------------+--------------------+------------+-------------+--------+----------+---------+---------+---------------+----------------+--------+\n",
            "only showing top 20 rows\n",
            "\n"
          ]
        }
      ]
    },
    {
      "cell_type": "code",
      "source": [
        "calendar = spark.sql('''\n",
        "                    SELECT DISTINCT orderdate, qtr_id, month_id, year_id\n",
        "                    FROM sales\n",
        "                    ORDER BY orderdate\n",
        "                      ''')\n",
        "calendar.show()"
      ],
      "metadata": {
        "id": "8B6hSKHpzlFk",
        "outputId": "071606e7-84e5-4fbc-ec39-89b61d4507ac",
        "colab": {
          "base_uri": "https://localhost:8080/"
        }
      },
      "execution_count": 25,
      "outputs": [
        {
          "output_type": "stream",
          "name": "stdout",
          "text": [
            "+--------------+------+--------+-------+\n",
            "|     orderdate|qtr_id|month_id|year_id|\n",
            "+--------------+------+--------+-------+\n",
            "|1/10/2003 0:00|     1|       1|   2003|\n",
            "|1/10/2005 0:00|     1|       1|   2005|\n",
            "|1/12/2004 0:00|     1|       1|   2004|\n",
            "|1/12/2005 0:00|     1|       1|   2005|\n",
            "|1/15/2004 0:00|     1|       1|   2004|\n",
            "|1/16/2004 0:00|     1|       1|   2004|\n",
            "|1/19/2005 0:00|     1|       1|   2005|\n",
            "| 1/2/2004 0:00|     1|       1|   2004|\n",
            "|1/20/2005 0:00|     1|       1|   2005|\n",
            "|1/22/2004 0:00|     1|       1|   2004|\n",
            "|1/23/2005 0:00|     1|       1|   2005|\n",
            "|1/26/2004 0:00|     1|       1|   2004|\n",
            "|1/26/2005 0:00|     1|       1|   2005|\n",
            "|1/29/2003 0:00|     1|       1|   2003|\n",
            "|1/29/2004 0:00|     1|       1|   2004|\n",
            "|1/31/2003 0:00|     1|       1|   2003|\n",
            "|1/31/2005 0:00|     1|       1|   2005|\n",
            "| 1/5/2005 0:00|     1|       1|   2005|\n",
            "| 1/6/2003 0:00|     1|       1|   2003|\n",
            "| 1/6/2005 0:00|     1|       1|   2005|\n",
            "+--------------+------+--------+-------+\n",
            "only showing top 20 rows\n",
            "\n"
          ]
        }
      ]
    },
    {
      "cell_type": "code",
      "source": [
        "# Criando Tabelas\n",
        "\n",
        "calendar = spark.sql('''\n",
        "                    SELECT DISTINCT orderdate, qtr_id, month_id, year_id\n",
        "                    FROM sales\n",
        "                    ORDER BY orderdate\n",
        "                      ''')\n",
        "\n",
        "sales_data = spark.sql('''\n",
        "                    SELECT DISTINCT ordernumber,\n",
        "                                    customername,\n",
        "                                    orderdate,\n",
        "                                    sales,\n",
        "                                    quantityordered,\n",
        "                                    orderlinenumber,\n",
        "                                    priceeach\n",
        "                    FROM sales\n",
        "                    ORDER BY ordernumber\n",
        "                      ''')\n",
        "\n",
        "customers = spark.sql('''\n",
        "                    SELECT DISTINCT customername,\n",
        "                                    phone,\n",
        "                                    sales,\n",
        "                                    addressline1,\n",
        "                                    addressline2,\n",
        "                                    city,\n",
        "                                    state,\n",
        "                                    postalcode,\n",
        "                                    country,\n",
        "                                    territory\n",
        "                    FROM sales\n",
        "                    ORDER BY customername\n",
        "                    ''')\n",
        "\n",
        "# Materializar esse dados separados\n",
        "# Criando tabelas temporárias\n",
        "sales_data.createOrReplaceTempView('sales_data')\n",
        "calendar.createOrReplaceTempView('calendar')\n",
        "customers.createOrReplaceTempView('customers')"
      ],
      "metadata": {
        "id": "dmT0MpbE0NAb"
      },
      "execution_count": 36,
      "outputs": []
    },
    {
      "cell_type": "code",
      "source": [
        "calendar.count()"
      ],
      "metadata": {
        "id": "bd5cnHg3j1b-",
        "outputId": "821c09f1-0ad5-4c76-c81c-8d9f70991385",
        "colab": {
          "base_uri": "https://localhost:8080/"
        }
      },
      "execution_count": 28,
      "outputs": [
        {
          "output_type": "execute_result",
          "data": {
            "text/plain": [
              "252"
            ]
          },
          "metadata": {},
          "execution_count": 28
        }
      ]
    },
    {
      "cell_type": "code",
      "source": [
        "sales_data.count()\n"
      ],
      "metadata": {
        "id": "R6LHpw5UwNps",
        "outputId": "b8b0229d-e3d9-45e6-fa83-ed20ef467ab5",
        "colab": {
          "base_uri": "https://localhost:8080/"
        }
      },
      "execution_count": 29,
      "outputs": [
        {
          "output_type": "execute_result",
          "data": {
            "text/plain": [
              "2823"
            ]
          },
          "metadata": {},
          "execution_count": 29
        }
      ]
    },
    {
      "cell_type": "code",
      "source": [
        "customers.count()"
      ],
      "metadata": {
        "id": "5YdqWrdukW-Y",
        "outputId": "f40dd5f4-4aa5-4ea5-9a9d-93ea6bfcb399",
        "colab": {
          "base_uri": "https://localhost:8080/"
        }
      },
      "execution_count": 30,
      "outputs": [
        {
          "output_type": "execute_result",
          "data": {
            "text/plain": [
              "2823"
            ]
          },
          "metadata": {},
          "execution_count": 30
        }
      ]
    },
    {
      "cell_type": "code",
      "source": [
        "# Como se fosse uma tabela master com a junção de dados\n",
        "# União das tabelas\n",
        "master = spark.sql('''\n",
        "                   SELECT *\n",
        "                   FROM sales_data s\n",
        "                   INNER JOIN customers c ON s.CUSTOMERNAME = c.CUSTOMERNAME\n",
        "                   ''')\n",
        "master.show(5)"
      ],
      "metadata": {
        "id": "mg6EtIxlkdtK",
        "outputId": "a9e3294a-0ee2-4760-f21e-a53d9c312d69",
        "colab": {
          "base_uri": "https://localhost:8080/"
        }
      },
      "execution_count": 33,
      "outputs": [
        {
          "output_type": "stream",
          "name": "stdout",
          "text": [
            "+-----------+---------------+---------------+-------+---------------+---------------+---------+---------------+--------------+-------+--------------------+------------+-----------+----------+-----------+---------+\n",
            "|ordernumber|   customername|      orderdate|  sales|quantityordered|orderlinenumber|priceeach|   customername|         phone|  sales|        addressline1|addressline2|      state|postalcode|    country|territory|\n",
            "+-----------+---------------+---------------+-------+---------------+---------------+---------+---------------+--------------+-------+--------------------+------------+-----------+----------+-----------+---------+\n",
            "|      10198|Cruz & Sons Co.|11/27/2003 0:00|3255.36|             48|              5|    67.82|Cruz & Sons Co.|+63 2 555 3587|5265.15|15 McCallum Stree...|         NaN|Makati City|   1227 MM|Philippines|    Japan|\n",
            "|      10108|Cruz & Sons Co.|  3/3/2003 0:00|2914.11|             43|             12|    67.77|Cruz & Sons Co.|+63 2 555 3587|5265.15|15 McCallum Stree...|         NaN|Makati City|   1227 MM|Philippines|    Japan|\n",
            "|      10198|Cruz & Sons Co.|11/27/2003 0:00|4774.56|             42|              1|    100.0|Cruz & Sons Co.|+63 2 555 3587|5265.15|15 McCallum Stree...|         NaN|Makati City|   1227 MM|Philippines|    Japan|\n",
            "|      10108|Cruz & Sons Co.|  3/3/2003 0:00|2130.01|             31|             10|    68.71|Cruz & Sons Co.|+63 2 555 3587|5265.15|15 McCallum Stree...|         NaN|Makati City|   1227 MM|Philippines|    Japan|\n",
            "|      10108|Cruz & Sons Co.|  3/3/2003 0:00|5565.12|             44|             11|    100.0|Cruz & Sons Co.|+63 2 555 3587|5265.15|15 McCallum Stree...|         NaN|Makati City|   1227 MM|Philippines|    Japan|\n",
            "+-----------+---------------+---------------+-------+---------------+---------------+---------+---------------+--------------+-------+--------------------+------------+-----------+----------+-----------+---------+\n",
            "only showing top 5 rows\n",
            "\n"
          ]
        }
      ]
    },
    {
      "cell_type": "code",
      "source": [
        "master_c = spark.sql('''\n",
        "                  SELECT DISTINCT s.ordernumber, c.city\n",
        "                  FROM sales_data s\n",
        "                  INNER JOIN customers c ON s.CUSTOMERNAME = c. CUSTOMERNAME\n",
        "                  ''')\n",
        "master_c.show(5)"
      ],
      "metadata": {
        "id": "b1eWjaMZmjgk",
        "outputId": "682f96e2-078f-497a-842b-a5327bda2aa8",
        "colab": {
          "base_uri": "https://localhost:8080/"
        }
      },
      "execution_count": 38,
      "outputs": [
        {
          "output_type": "stream",
          "name": "stdout",
          "text": [
            "+-----------+---------+\n",
            "|ordernumber|     city|\n",
            "+-----------+---------+\n",
            "|      10262|   Madrid|\n",
            "|      10281|Allentown|\n",
            "|      10194|     Lyon|\n",
            "|      10242|      NYC|\n",
            "|      10247|    Espoo|\n",
            "+-----------+---------+\n",
            "only showing top 5 rows\n",
            "\n"
          ]
        }
      ]
    }
  ]
}