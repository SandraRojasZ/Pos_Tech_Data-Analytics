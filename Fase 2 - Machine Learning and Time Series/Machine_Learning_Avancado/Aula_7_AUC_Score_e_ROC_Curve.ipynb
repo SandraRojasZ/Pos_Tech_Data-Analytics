{
  "nbformat": 4,
  "nbformat_minor": 0,
  "metadata": {
    "colab": {
      "provenance": [],
      "authorship_tag": "ABX9TyMw4fMcwazW8Wk5D9XvbMYW"
    },
    "kernelspec": {
      "name": "python3",
      "display_name": "Python 3"
    },
    "language_info": {
      "name": "python"
    }
  },
  "cells": [
    {
      "cell_type": "markdown",
      "source": [
        "# Série Temporal\n",
        "\n",
        "Sucessão de eventos que variam com o tempo\n",
        "Função que depende do tempo"
      ],
      "metadata": {
        "id": "-JwsrJXHF6Gv"
      }
    },
    {
      "cell_type": "code",
      "execution_count": null,
      "metadata": {
        "id": "k2lGgUNxEfGd"
      },
      "outputs": [],
      "source": []
    }
  ]
}