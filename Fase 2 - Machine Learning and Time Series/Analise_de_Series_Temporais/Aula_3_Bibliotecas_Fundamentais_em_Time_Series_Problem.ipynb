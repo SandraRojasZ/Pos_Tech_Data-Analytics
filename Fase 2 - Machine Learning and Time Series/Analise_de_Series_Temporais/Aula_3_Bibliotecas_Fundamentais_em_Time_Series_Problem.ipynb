{
  "nbformat": 4,
  "nbformat_minor": 0,
  "metadata": {
    "colab": {
      "provenance": [],
      "authorship_tag": "ABX9TyMR+5NS+L3U+7WCikQ3XhKu"
    },
    "kernelspec": {
      "name": "python3",
      "display_name": "Python 3"
    },
    "language_info": {
      "name": "python"
    }
  },
  "cells": [
    {
      "cell_type": "markdown",
      "source": [
        "# Bibliotecas\n",
        "\n",
        "- Data - DS\n",
        "- Target - Y\n",
        "\n",
        "## Prophet\n",
        "- predict"
      ],
      "metadata": {
        "id": "-JwsrJXHF6Gv"
      }
    },
    {
      "cell_type": "code",
      "execution_count": null,
      "metadata": {
        "id": "k2lGgUNxEfGd"
      },
      "outputs": [],
      "source": []
    }
  ]
}